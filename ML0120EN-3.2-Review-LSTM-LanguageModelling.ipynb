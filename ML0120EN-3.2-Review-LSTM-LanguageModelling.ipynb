{
 "cells": [
  {
   "cell_type": "markdown",
   "metadata": {},
   "source": [
    "<a href=\"https://www.skills.network/?utm_medium=Exinfluencer&utm_source=Exinfluencer&utm_content=000026UJ&utm_term=10006555&utm_id=NA-SkillsNetwork-Channel-SkillsNetworkCoursesIBMDeveloperSkillsNetworkDL0120ENSkillsNetwork20629446-2021-01-01\"><img src=\"https://cf-courses-data.s3.us.cloud-object-storage.appdomain.cloud/IBM-DL0120ENedX/labs/Template%20for%20Instructional%20Hands-on%20Labs/images/IDSNlogo.png\" width=\"400px\" align=\"center\"></a>\n",
    "\n",
    "<h1 align=\"center\"><font size=\"5\">RECURRENT NETWORKS and LSTM IN DEEP LEARNING</font></h1>\n"
   ]
  },
  {
   "cell_type": "markdown",
   "metadata": {},
   "source": [
    "<h2>Applying Recurrent Neural Networks/LSTM for Language Modeling</h2>\n",
    "Hello and welcome to this part. In this notebook, we will go over the topic of Language Modelling, and create a Recurrent Neural Network model based on the Long Short-Term Memory unit to train and benchmark on the Penn Treebank dataset. By the end of this notebook, you should be able to understand how TensorFlow builds and executes a RNN model for Language Modelling.\n"
   ]
  },
  {
   "cell_type": "markdown",
   "metadata": {},
   "source": [
    "<h2>The Objective</h2>\n",
    "By now, you should have an understanding of how Recurrent Networks work -- a specialized model to process sequential data by keeping track of the \"state\" or context. In this notebook, we go over a TensorFlow code snippet for creating a model focused on <b>Language Modelling</b> -- a very relevant task that is the cornerstone of many different linguistic problems such as <b>Speech Recognition, Machine Translation and Image Captioning</b>. For this, we will be using the Penn Treebank dataset, which is an often-used dataset for benchmarking Language Modelling models.\n"
   ]
  },
  {
   "cell_type": "markdown",
   "metadata": {},
   "source": [
    "<h2>Table of Contents</h2>\n",
    "<ol>\n",
    "    <li><a href=\"https://#language_modelling\">What exactly is Language Modelling?</a></li>\n",
    "    <li><a href=\"https://#treebank_dataset\">The Penn Treebank dataset</a></li>\n",
    "    <li><a href=\"https://#word_embedding\">Word Embedding</a></li>\n",
    "    <li><a href=\"https://#building_lstm_model\">Building the LSTM model for Language Modeling</a></li>\n",
    "    <li><a href=\"https://#ltsm\">LTSM</a></li>\n",
    "</ol>\n",
    "<p></p>\n",
    "</div>\n",
    "<br>\n"
   ]
  },
  {
   "cell_type": "markdown",
   "metadata": {
    "button": false,
    "deletable": true,
    "new_sheet": false,
    "run_control": {
     "read_only": false
    }
   },
   "source": [
    "***\n"
   ]
  },
  {
   "cell_type": "markdown",
   "metadata": {},
   "source": [
    "<a id=\"language_modelling\"></a>\n",
    "\n",
    "<h2>What exactly is Language Modelling?</h2>\n",
    "Language Modelling, to put it simply, <b>is the task of assigning probabilities to sequences of words</b>. This means that, given a context of one or a sequence of words in the language the model was trained on, the model should provide the next most probable words or sequence of words that follows from the given sequence of words the sentence. Language Modelling is one of the most important tasks in Natural Language Processing.\n",
    "\n",
    "<img src=\"https://ibm.box.com/shared/static/1d1i5gub6wljby2vani2vzxp0xsph702.png\" width=\"1080\">\n",
    "<center><i>Example of a sentence being predicted</i></center>\n",
    "<br><br>\n",
    "In this example, one can see the predictions for the next word of a sentence, given the context \"This is an\". As you can see, this boils down to a sequential data analysis task -- you are given a word or a sequence of words (the input data), and, given the context (the state), you need to find out what is the next word (the prediction). This kind of analysis is very important for language-related tasks such as <b>Speech Recognition, Machine Translation, Image Captioning, Text Correction</b> and many other very relevant problems. \n",
    "\n",
    "<img src=\"https://ibm.box.com/shared/static/az39idf9ipfdpc5ugifpgxnydelhyf3i.png\" width=\"1080\">\n",
    "<center><i>The above example is a schema of an RNN in execution</i></center>\n",
    "<br><br>\n",
    "As the above image shows, Recurrent Network models fit this problem like a glove. Alongside LSTM and its capacity to maintain the model's state for over one thousand time steps, we have all the tools we need to undertake this problem. The goal for this notebook is to create a model that can reach <b>low levels of perplexity</b> on our desired dataset.\n",
    "\n",
    "For Language Modelling problems, <b>perplexity</b> is the way to gauge efficiency. Perplexity is simply a measure of how well a probabilistic model is able to predict its sample. A higher-level way to explain this would be saying that <b>low perplexity means a higher degree of trust in the predictions the model makes</b>. Therefore, the lower perplexity is, the better.\n"
   ]
  },
  {
   "cell_type": "markdown",
   "metadata": {},
   "source": [
    "<a id=\"treebank_dataset\"></a>\n",
    "\n",
    "<h2>The Penn Treebank dataset</h2>\n",
    "Historically, datasets big enough for Natural Language Processing are hard to come by. This is in part due to the necessity of the sentences to be broken down and tagged with a certain degree of correctness -- or else the models trained on it won't be able to be correct at all. This means that we need a <b>large amount of data, annotated by or at least corrected by humans</b>. This is, of course, not an easy task at all.\n",
    "\n",
    "The Penn Treebank, or PTB for short, is a dataset maintained by the University of Pennsylvania. It is <i>huge</i> -- there are over <b>four million and eight hundred thousand</b> annotated words in it, all corrected by humans. It is composed of many different sources, from abstracts of Department of Energy papers to texts from the Library of America. Since it is verifiably correct and of such a huge size, the Penn Treebank is commonly used as a benchmark dataset for Language Modelling.\n",
    "\n",
    "The dataset is divided in different kinds of annotations, such as Piece-of-Speech, Syntactic and Semantic skeletons. For this example, we will simply use a sample of clean, non-annotated words (with the exception of one tag --<code>\\<unk></code>\n",
    ", which is used for rare words such as uncommon proper nouns) for our model. This means that we just want to predict what the next words would be, not what they mean in context or their classes on a given sentence.\n",
    "\n",
    "<center>Example of text from the dataset we are going to use, <b>ptb.train</b></center>\n",
    "<br><br>\n",
    "\n",
    "<div class=\"alert alert-block alert-info\" style=\"margin-top: 20px\">\n",
    "    <center>the percentage of lung cancer deaths among the workers at the west <code>&lt;unk&gt;</code> mass. paper factory appears to be the highest for any asbestos workers studied in western industrialized countries he said \n",
    " the plant which is owned by <code>&lt;unk&gt;</code> & <code>&lt;unk&gt;</code> co. was under contract with <code>&lt;unk&gt;</code> to make the cigarette filters \n",
    " the finding probably will support those who argue that the U.S. should regulate the class of asbestos including <code>&lt;unk&gt;</code> more <code>&lt;unk&gt;</code> than the common kind of asbestos <code>&lt;unk&gt;</code> found in most schools and other buildings dr. <code>&lt;unk&gt;</code> said</center>\n",
    "</div>\n"
   ]
  },
  {
   "cell_type": "markdown",
   "metadata": {
    "button": false,
    "deletable": true,
    "new_sheet": false,
    "run_control": {
     "read_only": false
    }
   },
   "source": [
    "<a id=\"word_embedding\"></a>\n",
    "\n",
    "<h2>Word Embeddings</h2><br/>\n",
    "\n",
    "For better processing, in this example, we will make use of <a href=\"https://www.tensorflow.org/tutorials/word2vec/?utm_medium=Exinfluencer&utm_source=Exinfluencer&utm_content=000026UJ&utm_term=10006555&utm_id=NA-SkillsNetwork-Channel-SkillsNetworkCoursesIBMDeveloperSkillsNetworkDL0120ENSkillsNetwork20629446-2021-01-01\"><b>word embeddings</b></a>, which is <b>a way of representing sentence structures or words as n-dimensional vectors (where n is a reasonably high number, such as 200 or 500) of real numbers</b>. Basically, we will assign each word a randomly-initialized vector, and input those into the network to be processed. After a number of iterations, these vectors are expected to assume values that help the network to correctly predict what it needs to -- in our case, the probable next word in the sentence. This is shown to be a very effective task in Natural Language Processing, and is a commonplace practice. <br><br> <font size=\"4\"><strong>\n",
    "$$Vec(\"Example\") = \\[0.02, 0.00, 0.00, 0.92, 0.30, \\ldots]$$ </strong></font> <br>\n",
    "Word Embedding tends to group up similarly used words <i>reasonably</i> close together in the vectorial space. For example, if we use T-SNE (a dimensional reduction visualization algorithm) to flatten the dimensions of our vectors into a 2-dimensional space and plot these words in a 2-dimensional space, we might see something like this:\n",
    "\n",
    "<img src=\"https://ibm.box.com/shared/static/bqhc5dg879gcoabzhxra1w8rkg3od1cu.png\" width=\"800\">\n",
    "<center><i>T-SNE Mockup with clusters marked for easier visualization</i></center>\n",
    "<br><br>\n",
    "As you can see, words that are frequently used together, in place of each other, or in the same places as them tend to be grouped together -- being closer together the higher they are correlated. For example, \"None\" is pretty semantically close to \"Zero\", while a phrase that uses \"Italy\", you could probably also fit \"Germany\" in it, with little damage to the sentence structure. The vectorial \"closeness\" for similar words like this is a great indicator of a well-built model.\n",
    "\n",
    "<hr>\n"
   ]
  },
  {
   "cell_type": "markdown",
   "metadata": {
    "button": false,
    "deletable": true,
    "new_sheet": false,
    "run_control": {
     "read_only": false
    }
   },
   "source": [
    "We need to import the necessary modules for our code. We need <b><code>numpy</code></b> and <b><code>tensorflow</code></b>, obviously. Additionally, we can import directly the <b><code>tensorflow\\.models.rnn</code></b> model, which includes the function for building RNNs, and <b><code>tensorflow\\.models.rnn.ptb.reader</code></b> which is the helper module for getting the input data from the dataset we just downloaded.\n",
    "\n",
    "If you want to learn more take a look at <https://github.com/tensorflow/models/blob/master/tutorials/rnn/ptb/reader.py>\n"
   ]
  },
  {
   "cell_type": "code",
   "execution_count": 1,
   "metadata": {
    "tags": []
   },
   "outputs": [
    {
     "name": "stdout",
     "output_type": "stream",
     "text": [
      "Collecting tensorflow==2.2.0rc0\n",
      "  Downloading tensorflow-2.2.0rc0-cp37-cp37m-manylinux2010_x86_64.whl (515.9 MB)\n",
      "     |████████████████████████████████| 515.9 MB 5.2 kB/s              \n",
      "\u001b[?25hCollecting astunparse==1.6.3\n",
      "  Downloading astunparse-1.6.3-py2.py3-none-any.whl (12 kB)\n",
      "Collecting h5py<2.11.0,>=2.10.0\n",
      "  Downloading h5py-2.10.0-cp37-cp37m-manylinux1_x86_64.whl (2.9 MB)\n",
      "     |████████████████████████████████| 2.9 MB 61.4 MB/s            \n",
      "\u001b[?25hRequirement already satisfied: absl-py>=0.7.0 in /home/jupyterlab/conda/envs/python/lib/python3.7/site-packages (from tensorflow==2.2.0rc0) (1.0.0)\n",
      "Requirement already satisfied: protobuf>=3.8.0 in /home/jupyterlab/conda/envs/python/lib/python3.7/site-packages (from tensorflow==2.2.0rc0) (3.19.1)\n",
      "Requirement already satisfied: six>=1.12.0 in /home/jupyterlab/conda/envs/python/lib/python3.7/site-packages (from tensorflow==2.2.0rc0) (1.16.0)\n",
      "Requirement already satisfied: keras-preprocessing>=1.1.0 in /home/jupyterlab/conda/envs/python/lib/python3.7/site-packages (from tensorflow==2.2.0rc0) (1.1.2)\n",
      "Requirement already satisfied: grpcio>=1.8.6 in /home/jupyterlab/conda/envs/python/lib/python3.7/site-packages (from tensorflow==2.2.0rc0) (1.42.0)\n",
      "Requirement already satisfied: numpy<2.0,>=1.16.0 in /home/jupyterlab/conda/envs/python/lib/python3.7/site-packages (from tensorflow==2.2.0rc0) (1.21.4)\n",
      "Collecting opt-einsum>=2.3.2\n",
      "  Downloading opt_einsum-3.3.0-py3-none-any.whl (65 kB)\n",
      "     |████████████████████████████████| 65 kB 6.6 MB/s             \n",
      "\u001b[?25hCollecting scipy==1.4.1\n",
      "  Downloading scipy-1.4.1-cp37-cp37m-manylinux1_x86_64.whl (26.1 MB)\n",
      "     |████████████████████████████████| 26.1 MB 67.0 MB/s            \n",
      "\u001b[?25hRequirement already satisfied: google-pasta>=0.1.8 in /home/jupyterlab/conda/envs/python/lib/python3.7/site-packages (from tensorflow==2.2.0rc0) (0.2.0)\n",
      "Collecting gast==0.3.3\n",
      "  Downloading gast-0.3.3-py2.py3-none-any.whl (9.7 kB)\n",
      "Requirement already satisfied: wheel>=0.26 in /home/jupyterlab/conda/envs/python/lib/python3.7/site-packages (from tensorflow==2.2.0rc0) (0.37.0)\n",
      "Collecting tensorboard<2.2.0,>=2.1.0\n",
      "  Downloading tensorboard-2.1.1-py3-none-any.whl (3.8 MB)\n",
      "     |████████████████████████████████| 3.8 MB 57.3 MB/s            \n",
      "\u001b[?25hRequirement already satisfied: wrapt>=1.11.1 in /home/jupyterlab/conda/envs/python/lib/python3.7/site-packages (from tensorflow==2.2.0rc0) (1.13.3)\n",
      "Collecting tensorflow-estimator<2.2.0,>=2.1.0\n",
      "  Downloading tensorflow_estimator-2.1.0-py2.py3-none-any.whl (448 kB)\n",
      "     |████████████████████████████████| 448 kB 103.7 MB/s            \n",
      "\u001b[?25hRequirement already satisfied: termcolor>=1.1.0 in /home/jupyterlab/conda/envs/python/lib/python3.7/site-packages (from tensorflow==2.2.0rc0) (1.1.0)\n",
      "Collecting google-auth-oauthlib<0.5,>=0.4.1\n",
      "  Downloading google_auth_oauthlib-0.4.6-py2.py3-none-any.whl (18 kB)\n",
      "Collecting google-auth<2,>=1.6.3\n",
      "  Downloading google_auth-1.35.0-py2.py3-none-any.whl (152 kB)\n",
      "     |████████████████████████████████| 152 kB 106.1 MB/s            \n",
      "\u001b[?25hRequirement already satisfied: markdown>=2.6.8 in /home/jupyterlab/conda/envs/python/lib/python3.7/site-packages (from tensorboard<2.2.0,>=2.1.0->tensorflow==2.2.0rc0) (3.3.6)\n",
      "Requirement already satisfied: werkzeug>=0.11.15 in /home/jupyterlab/conda/envs/python/lib/python3.7/site-packages (from tensorboard<2.2.0,>=2.1.0->tensorflow==2.2.0rc0) (2.0.1)\n",
      "Requirement already satisfied: setuptools>=41.0.0 in /home/jupyterlab/conda/envs/python/lib/python3.7/site-packages (from tensorboard<2.2.0,>=2.1.0->tensorflow==2.2.0rc0) (59.4.0)\n",
      "Requirement already satisfied: requests<3,>=2.21.0 in /home/jupyterlab/conda/envs/python/lib/python3.7/site-packages (from tensorboard<2.2.0,>=2.1.0->tensorflow==2.2.0rc0) (2.26.0)\n",
      "Collecting rsa<5,>=3.1.4\n",
      "  Using cached rsa-4.8-py3-none-any.whl (39 kB)\n",
      "Collecting cachetools<5.0,>=2.0.0\n",
      "  Using cached cachetools-4.2.4-py3-none-any.whl (10 kB)\n",
      "Requirement already satisfied: pyasn1-modules>=0.2.1 in /home/jupyterlab/conda/envs/python/lib/python3.7/site-packages (from google-auth<2,>=1.6.3->tensorboard<2.2.0,>=2.1.0->tensorflow==2.2.0rc0) (0.2.8)\n",
      "Collecting requests-oauthlib>=0.7.0\n",
      "  Downloading requests_oauthlib-1.3.1-py2.py3-none-any.whl (23 kB)\n",
      "Requirement already satisfied: importlib-metadata>=4.4 in /home/jupyterlab/conda/envs/python/lib/python3.7/site-packages (from markdown>=2.6.8->tensorboard<2.2.0,>=2.1.0->tensorflow==2.2.0rc0) (4.8.2)\n",
      "Requirement already satisfied: certifi>=2017.4.17 in /home/jupyterlab/conda/envs/python/lib/python3.7/site-packages (from requests<3,>=2.21.0->tensorboard<2.2.0,>=2.1.0->tensorflow==2.2.0rc0) (2021.10.8)\n",
      "Requirement already satisfied: urllib3<1.27,>=1.21.1 in /home/jupyterlab/conda/envs/python/lib/python3.7/site-packages (from requests<3,>=2.21.0->tensorboard<2.2.0,>=2.1.0->tensorflow==2.2.0rc0) (1.26.7)\n",
      "Requirement already satisfied: idna<4,>=2.5 in /home/jupyterlab/conda/envs/python/lib/python3.7/site-packages (from requests<3,>=2.21.0->tensorboard<2.2.0,>=2.1.0->tensorflow==2.2.0rc0) (3.1)\n",
      "Requirement already satisfied: charset-normalizer~=2.0.0 in /home/jupyterlab/conda/envs/python/lib/python3.7/site-packages (from requests<3,>=2.21.0->tensorboard<2.2.0,>=2.1.0->tensorflow==2.2.0rc0) (2.0.8)\n",
      "Requirement already satisfied: typing-extensions>=3.6.4 in /home/jupyterlab/conda/envs/python/lib/python3.7/site-packages (from importlib-metadata>=4.4->markdown>=2.6.8->tensorboard<2.2.0,>=2.1.0->tensorflow==2.2.0rc0) (4.0.1)\n",
      "Requirement already satisfied: zipp>=0.5 in /home/jupyterlab/conda/envs/python/lib/python3.7/site-packages (from importlib-metadata>=4.4->markdown>=2.6.8->tensorboard<2.2.0,>=2.1.0->tensorflow==2.2.0rc0) (3.6.0)\n",
      "Requirement already satisfied: pyasn1<0.5.0,>=0.4.6 in /home/jupyterlab/conda/envs/python/lib/python3.7/site-packages (from pyasn1-modules>=0.2.1->google-auth<2,>=1.6.3->tensorboard<2.2.0,>=2.1.0->tensorflow==2.2.0rc0) (0.4.8)\n",
      "Collecting oauthlib>=3.0.0\n",
      "  Downloading oauthlib-3.2.0-py3-none-any.whl (151 kB)\n",
      "     |████████████████████████████████| 151 kB 97.0 MB/s            \n",
      "\u001b[?25hInstalling collected packages: rsa, oauthlib, cachetools, requests-oauthlib, google-auth, google-auth-oauthlib, tensorflow-estimator, tensorboard, scipy, opt-einsum, h5py, gast, astunparse, tensorflow\n",
      "  Attempting uninstall: tensorflow-estimator\n",
      "    Found existing installation: tensorflow-estimator 1.14.0\n",
      "    Uninstalling tensorflow-estimator-1.14.0:\n",
      "      Successfully uninstalled tensorflow-estimator-1.14.0\n",
      "  Attempting uninstall: tensorboard\n",
      "    Found existing installation: tensorboard 1.14.0\n",
      "    Uninstalling tensorboard-1.14.0:\n",
      "      Successfully uninstalled tensorboard-1.14.0\n",
      "  Attempting uninstall: scipy\n",
      "    Found existing installation: scipy 1.7.3\n",
      "    Uninstalling scipy-1.7.3:\n",
      "      Successfully uninstalled scipy-1.7.3\n",
      "  Attempting uninstall: h5py\n",
      "    Found existing installation: h5py 2.8.0\n",
      "    Uninstalling h5py-2.8.0:\n",
      "      Successfully uninstalled h5py-2.8.0\n",
      "  Attempting uninstall: gast\n",
      "    Found existing installation: gast 0.5.3\n",
      "    Uninstalling gast-0.5.3:\n",
      "      Successfully uninstalled gast-0.5.3\n",
      "  Attempting uninstall: tensorflow\n",
      "    Found existing installation: tensorflow 1.14.0\n",
      "    Uninstalling tensorflow-1.14.0:\n",
      "      Successfully uninstalled tensorflow-1.14.0\n",
      "Successfully installed astunparse-1.6.3 cachetools-4.2.4 gast-0.3.3 google-auth-1.35.0 google-auth-oauthlib-0.4.6 h5py-2.10.0 oauthlib-3.2.0 opt-einsum-3.3.0 requests-oauthlib-1.3.1 rsa-4.8 scipy-1.4.1 tensorboard-2.1.1 tensorflow-2.2.0rc0 tensorflow-estimator-2.1.0\n",
      "Requirement already satisfied: numpy==1.21.4 in /home/jupyterlab/conda/envs/python/lib/python3.7/site-packages (1.21.4)\n"
     ]
    }
   ],
   "source": [
    "!pip install tensorflow==2.2.0rc0\n",
    "!pip install numpy==1.21.4\n"
   ]
  },
  {
   "cell_type": "code",
   "execution_count": 2,
   "metadata": {},
   "outputs": [],
   "source": [
    "import time\n",
    "import numpy as np\n",
    "import tensorflow as tf\n",
    "if not tf.__version__ == '2.2.0-rc0':\n",
    "    print(tf.__version__)\n",
    "    raise ValueError('please upgrade to TensorFlow 2.2.0-rc0, or restart your Kernel (Kernel->Restart & Clear Output)')"
   ]
  },
  {
   "cell_type": "markdown",
   "metadata": {},
   "source": [
    "IMPORTANT! => Please restart the kernel by clicking on \"Kernel\"->\"Restart and Clear Outout\" and wait until all output disapears. Then your changes are beeing picked up\n"
   ]
  },
  {
   "cell_type": "code",
   "execution_count": 3,
   "metadata": {
    "button": false,
    "deletable": true,
    "new_sheet": false,
    "run_control": {
     "read_only": false
    },
    "tags": []
   },
   "outputs": [
    {
     "name": "stdout",
     "output_type": "stream",
     "text": [
      "mkdir: cannot create directory ‘data’: File exists\n",
      "mkdir: cannot create directory ‘data/ptb’: File exists\n"
     ]
    }
   ],
   "source": [
    "!mkdir data\n",
    "!mkdir data/ptb\n",
    "!wget -q -O data/ptb/reader.py https://cf-courses-data.s3.us.cloud-object-storage.appdomain.cloud/IBMDeveloperSkillsNetwork-DL0120EN-SkillsNetwork/labs/Week3/data/ptb/reader.py\n",
    "!cp data/ptb/reader.py . \n",
    "\n"
   ]
  },
  {
   "cell_type": "code",
   "execution_count": 4,
   "metadata": {
    "tags": []
   },
   "outputs": [],
   "source": [
    "import reader"
   ]
  },
  {
   "cell_type": "markdown",
   "metadata": {
    "button": false,
    "deletable": true,
    "new_sheet": false,
    "run_control": {
     "read_only": false
    }
   },
   "source": [
    "<a id=\"building_lstm_model\"></a>\n",
    "\n",
    "<h2>Building the LSTM model for Language Modeling</h2>\n",
    "Now that we know exactly what we are doing, we can start building our model using TensorFlow. The very first thing we need to do is download and extract the <code>simple-examples</code> dataset, which can be done by executing the code cell below.\n"
   ]
  },
  {
   "cell_type": "code",
   "execution_count": 5,
   "metadata": {
    "button": false,
    "deletable": true,
    "new_sheet": false,
    "run_control": {
     "read_only": false
    },
    "tags": []
   },
   "outputs": [
    {
     "name": "stdout",
     "output_type": "stream",
     "text": [
      "--2022-02-02 09:22:05--  http://www.fit.vutbr.cz/~imikolov/rnnlm/simple-examples.tgz\n",
      "Resolving www.fit.vutbr.cz (www.fit.vutbr.cz)... 147.229.9.23, 2001:67c:1220:809::93e5:917\n",
      "Connecting to www.fit.vutbr.cz (www.fit.vutbr.cz)|147.229.9.23|:80... connected.\n",
      "HTTP request sent, awaiting response... 200 OK\n",
      "Length: 34869662 (33M) [application/x-gtar]\n",
      "Saving to: ‘simple-examples.tgz.2’\n",
      "\n",
      "simple-examples.tgz 100%[===================>]  33.25M  9.44MB/s    in 4.1s    \n",
      "\n",
      "2022-02-02 09:22:11 (8.08 MB/s) - ‘simple-examples.tgz.2’ saved [34869662/34869662]\n",
      "\n"
     ]
    }
   ],
   "source": [
    "!wget http://www.fit.vutbr.cz/~imikolov/rnnlm/simple-examples.tgz \n",
    "!tar xzf simple-examples.tgz -C data/"
   ]
  },
  {
   "cell_type": "markdown",
   "metadata": {
    "button": false,
    "deletable": true,
    "new_sheet": false,
    "run_control": {
     "read_only": false
    }
   },
   "source": [
    "Additionally, for the sake of making it easy to play around with the model's hyperparameters, we can declare them beforehand. Feel free to change these -- you will see a difference in performance each time you change those!\n"
   ]
  },
  {
   "cell_type": "code",
   "execution_count": 6,
   "metadata": {
    "button": false,
    "deletable": true,
    "new_sheet": false,
    "run_control": {
     "read_only": false
    }
   },
   "outputs": [],
   "source": [
    "#Initial weight scale\n",
    "init_scale = 0.1\n",
    "#Initial learning rate\n",
    "learning_rate = 1.0\n",
    "#Maximum permissible norm for the gradient (For gradient clipping -- another measure against Exploding Gradients)\n",
    "max_grad_norm = 5\n",
    "#The number of layers in our model\n",
    "num_layers = 2\n",
    "#The total number of recurrence steps, also known as the number of layers when our RNN is \"unfolded\"\n",
    "num_steps = 20\n",
    "#The number of processing units (neurons) in the hidden layers\n",
    "hidden_size_l1 = 256\n",
    "hidden_size_l2 = 128\n",
    "#The maximum number of epochs trained with the initial learning rate\n",
    "max_epoch_decay_lr = 4\n",
    "#The total number of epochs in training\n",
    "max_epoch = 15\n",
    "#The probability for keeping data in the Dropout Layer (This is an optimization, but is outside our scope for this notebook!)\n",
    "#At 1, we ignore the Dropout Layer wrapping.\n",
    "keep_prob = 1\n",
    "#The decay for the learning rate\n",
    "decay = 0.5\n",
    "#The size for each batch of data\n",
    "batch_size = 30\n",
    "#The size of our vocabulary\n",
    "vocab_size = 10000\n",
    "embeding_vector_size= 200\n",
    "#Training flag to separate training from testing\n",
    "is_training = 1\n",
    "#Data directory for our dataset\n",
    "data_dir = \"data/simple-examples/data/\""
   ]
  },
  {
   "cell_type": "markdown",
   "metadata": {
    "button": false,
    "new_sheet": false,
    "run_control": {
     "read_only": false
    }
   },
   "source": [
    "Some clarifications for LSTM architecture based on the arguments:\n",
    "\n",
    "Network structure:\n",
    "\n",
    "<ul>\n",
    "    <li>In this network, the number of LSTM cells are 2. To give the model more expressive power, we can add multiple layers of LSTMs to process the data. The output of the first layer will become the input of the second and so on.\n",
    "    </li>\n",
    "    <li>The recurrence steps is 20, that is, when our RNN is \"Unfolded\", the recurrence step is 20.</li>   \n",
    "    <li>the structure is like:\n",
    "        <ul>\n",
    "            <li>200 input units -> [200x200] Weight -> 200 Hidden units (first layer) -> [200x200] Weight matrix  -> 200 Hidden units (second layer) ->  [200] weight Matrix -> 200 unit output</li>\n",
    "        </ul>\n",
    "    </li>\n",
    "</ul>\n",
    "<br>\n",
    "\n",
    "Input layer:\n",
    "\n",
    "<ul>\n",
    "    <li>The network has 200 input units.</li>\n",
    "    <li>Suppose each word is represented by an embedding vector of dimensionality e=200. The input layer of each cell will have 200 linear units. These e=200 linear units are connected to each of the h=200 LSTM units in the hidden layer (assuming there is only one hidden layer, though our case has 2 layers).\n",
    "    </li>\n",
    "    <li>The input shape is [batch_size, num_steps], that is [30x20]. It will turn into [30x20x200] after embedding, and then 20x[30x200]\n",
    "    </li>\n",
    "</ul>\n",
    "<br>\n",
    "\n",
    "Hidden layer:\n",
    "\n",
    "<ul>\n",
    "    <li>Each LSTM has 200 hidden units which is equivalent to the dimensionality of the embedding words and output.</li>\n",
    "</ul>\n",
    "<br>\n"
   ]
  },
  {
   "cell_type": "markdown",
   "metadata": {
    "button": false,
    "deletable": true,
    "new_sheet": false,
    "run_control": {
     "read_only": false
    }
   },
   "source": [
    "There is a lot to be done and a ton of information to process at the same time, so go over this code slowly. It may seem complex at first, but if you try to apply what you just learned about language modelling to the code you see, you should be able to understand it.\n",
    "\n",
    "This code is adapted from the <a href=\"https://github.com/tensorflow/models?utm_medium=Exinfluencer&utm_source=Exinfluencer&utm_content=000026UJ&utm_term=10006555&utm_id=NA-SkillsNetwork-Channel-SkillsNetworkCoursesIBMDeveloperSkillsNetworkDL0120ENSkillsNetwork20629446-2021-01-01\">PTBModel</a> example bundled with the TensorFlow source code.\n",
    "\n",
    "<h3>Training data</h3>\n",
    "The story starts from data:\n",
    "<ul>\n",
    "    <li>Train data is a list of words, of size 929589, represented by numbers, e.g. [9971, 9972, 9974, 9975,...]</li>\n",
    "    <li>We read data as mini-batch of size b=30. Assume the size of each sentence is 20 words (num_steps = 20). Then it will take $$floor(\\frac{N}{b \\times h})+1=1548$$ iterations for the learner to go through all sentences once. Where N is the size of the list of words, b is batch size, and h is size of each sentence. So, the number of iterators is 1548\n",
    "    </li>\n",
    "    <li>Each batch data is read from train dataset of size 600, and shape of [30x20]</li>\n",
    "</ul>\n"
   ]
  },
  {
   "cell_type": "code",
   "execution_count": 7,
   "metadata": {
    "button": false,
    "deletable": true,
    "new_sheet": false,
    "run_control": {
     "read_only": false
    }
   },
   "outputs": [],
   "source": [
    "# Reads the data and separates it into training data, validation data and testing data\n",
    "raw_data = reader.ptb_raw_data(data_dir)\n",
    "train_data, valid_data, test_data, vocab, word_to_id = raw_data"
   ]
  },
  {
   "cell_type": "code",
   "execution_count": 8,
   "metadata": {},
   "outputs": [
    {
     "data": {
      "text/plain": [
       "929589"
      ]
     },
     "execution_count": 8,
     "metadata": {},
     "output_type": "execute_result"
    }
   ],
   "source": [
    "len(train_data)"
   ]
  },
  {
   "cell_type": "code",
   "execution_count": 9,
   "metadata": {
    "tags": []
   },
   "outputs": [
    {
     "name": "stdout",
     "output_type": "stream",
     "text": [
      "['aer', 'banknote', 'berlitz', 'calloway', 'centrust', 'cluett', 'fromstein', 'gitano', 'guterman', 'hydro-quebec', 'ipo', 'kia', 'memotec', 'mlx', 'nahb', 'punts', 'rake', 'regatta', 'rubens', 'sim', 'snack-food', 'ssangyong', 'swapo', 'wachter', '<eos>', 'pierre', '<unk>', 'N', 'years', 'old', 'will', 'join', 'the', 'board', 'as', 'a', 'nonexecutive', 'director', 'nov.', 'N', '<eos>', 'mr.', '<unk>', 'is', 'chairman', 'of', '<unk>', 'n.v.', 'the', 'dutch', 'publishing', 'group', '<eos>', 'rudolph', '<unk>', 'N', 'years', 'old', 'and', 'former', 'chairman', 'of', 'consolidated', 'gold', 'fields', 'plc', 'was', 'named', 'a', 'nonexecutive', 'director', 'of', 'this', 'british', 'industrial', 'conglomerate', '<eos>', 'a', 'form', 'of', 'asbestos', 'once', 'used', 'to', 'make', 'kent', 'cigarette', 'filters', 'has', 'caused', 'a', 'high', 'percentage', 'of', 'cancer', 'deaths', 'among', 'a', 'group', 'of']\n"
     ]
    }
   ],
   "source": [
    "def id_to_word(id_list):\n",
    "    line = []\n",
    "    for w in id_list:\n",
    "        for word, wid in word_to_id.items():\n",
    "            if wid == w:\n",
    "                line.append(word)\n",
    "    return line            \n",
    "                \n",
    "\n",
    "print(id_to_word(train_data[0:100]))"
   ]
  },
  {
   "cell_type": "markdown",
   "metadata": {
    "button": false,
    "deletable": true,
    "new_sheet": false,
    "run_control": {
     "read_only": false
    }
   },
   "source": [
    "Lets just read one mini-batch now and feed our network:\n"
   ]
  },
  {
   "cell_type": "code",
   "execution_count": 10,
   "metadata": {
    "button": false,
    "deletable": true,
    "new_sheet": false,
    "run_control": {
     "read_only": false
    }
   },
   "outputs": [],
   "source": [
    "itera = reader.ptb_iterator(train_data, batch_size, num_steps)\n",
    "first_touple = itera.__next__()\n",
    "_input_data = first_touple[0]\n",
    "_targets = first_touple[1]"
   ]
  },
  {
   "cell_type": "code",
   "execution_count": 11,
   "metadata": {
    "button": false,
    "deletable": true,
    "new_sheet": false,
    "run_control": {
     "read_only": false
    }
   },
   "outputs": [
    {
     "data": {
      "text/plain": [
       "(30, 20)"
      ]
     },
     "execution_count": 11,
     "metadata": {},
     "output_type": "execute_result"
    }
   ],
   "source": [
    "_input_data.shape"
   ]
  },
  {
   "cell_type": "code",
   "execution_count": 12,
   "metadata": {},
   "outputs": [
    {
     "data": {
      "text/plain": [
       "(30, 20)"
      ]
     },
     "execution_count": 12,
     "metadata": {},
     "output_type": "execute_result"
    }
   ],
   "source": [
    "_targets.shape"
   ]
  },
  {
   "cell_type": "markdown",
   "metadata": {
    "button": false,
    "deletable": true,
    "new_sheet": false,
    "run_control": {
     "read_only": false
    }
   },
   "source": [
    "Lets look at 3 sentences of our input x:\n"
   ]
  },
  {
   "cell_type": "code",
   "execution_count": 13,
   "metadata": {
    "button": false,
    "deletable": true,
    "new_sheet": false,
    "run_control": {
     "read_only": false
    }
   },
   "outputs": [
    {
     "data": {
      "text/plain": [
       "array([[9970, 9971, 9972, 9974, 9975, 9976, 9980, 9981, 9982, 9983, 9984,\n",
       "        9986, 9987, 9988, 9989, 9991, 9992, 9993, 9994, 9995],\n",
       "       [2654,    6,  334, 2886,    4,    1,  233,  711,  834,   11,  130,\n",
       "         123,    7,  514,    2,   63,   10,  514,    8,  605],\n",
       "       [   0, 1071,    4,    0,  185,   24,  368,   20,   31, 3109,  954,\n",
       "          12,    3,   21,    2, 2915,    2,   12,    3,   21]],\n",
       "      dtype=int32)"
      ]
     },
     "execution_count": 13,
     "metadata": {},
     "output_type": "execute_result"
    }
   ],
   "source": [
    "_input_data[0:3]"
   ]
  },
  {
   "cell_type": "code",
   "execution_count": 14,
   "metadata": {},
   "outputs": [
    {
     "name": "stdout",
     "output_type": "stream",
     "text": [
      "['aer', 'banknote', 'berlitz', 'calloway', 'centrust', 'cluett', 'fromstein', 'gitano', 'guterman', 'hydro-quebec', 'ipo', 'kia', 'memotec', 'mlx', 'nahb', 'punts', 'rake', 'regatta', 'rubens', 'sim']\n"
     ]
    }
   ],
   "source": [
    "print(id_to_word(_input_data[0,:]))"
   ]
  },
  {
   "cell_type": "markdown",
   "metadata": {
    "button": false,
    "deletable": true,
    "new_sheet": false,
    "run_control": {
     "read_only": false
    }
   },
   "source": [
    "<h3>Embeddings</h3>\n",
    "We have to convert the words in our dataset to vectors of numbers. The traditional approach is to use one-hot encoding method that is usually used for converting categorical values to numerical values. However, One-hot encoded vectors are high-dimensional, sparse and in a big dataset, computationally inefficient. So, we use word2vec approach. It is, in fact, a layer in our LSTM network, where the word IDs will be represented as a dense representation before feeding to the LSTM. \n",
    "\n",
    "The embedded vectors also get updated during the training process of the deep neural network.\n",
    "We create the embeddings for our input data. <b>embedding_vocab</b> is matrix of \\[10000x200] for all 10000 unique words.\n"
   ]
  },
  {
   "cell_type": "markdown",
   "metadata": {
    "button": false,
    "deletable": true,
    "new_sheet": false,
    "run_control": {
     "read_only": false
    }
   },
   "source": [
    "<b>embedding_lookup()</b> finds the embedded values for our batch of 30x20 words. It  goes to each row of <code>input_data</code>, and for each word in the row/sentence, finds the correspond vector in <code>embedding_dic<code>. <br>\n",
    "It creates a \\[30x20x200] tensor, so, the first element of <b>inputs</b> (the first sentence), is a matrix of 20x200, which each row of it, is vector representing a word in the sentence.\n"
   ]
  },
  {
   "cell_type": "code",
   "execution_count": 15,
   "metadata": {},
   "outputs": [],
   "source": [
    "embedding_layer = tf.keras.layers.Embedding(vocab_size, embeding_vector_size,batch_input_shape=(batch_size, num_steps),trainable=True,name=\"embedding_vocab\")  "
   ]
  },
  {
   "cell_type": "code",
   "execution_count": 16,
   "metadata": {},
   "outputs": [
    {
     "name": "stderr",
     "output_type": "stream",
     "text": [
      "2022-02-02 09:22:17.854314: W tensorflow/stream_executor/platform/default/dso_loader.cc:55] Could not load dynamic library 'libcuda.so.1'; dlerror: libcuda.so.1: cannot open shared object file: No such file or directory\n",
      "2022-02-02 09:22:17.854364: E tensorflow/stream_executor/cuda/cuda_driver.cc:313] failed call to cuInit: UNKNOWN ERROR (303)\n",
      "2022-02-02 09:22:17.854398: I tensorflow/stream_executor/cuda/cuda_diagnostics.cc:156] kernel driver does not appear to be running on this host (jupyterlab-sarashahin20): /proc/driver/nvidia/version does not exist\n",
      "2022-02-02 09:22:17.854764: I tensorflow/core/platform/cpu_feature_guard.cc:143] Your CPU supports instructions that this TensorFlow binary was not compiled to use: AVX2 AVX512F FMA\n",
      "2022-02-02 09:22:17.866377: I tensorflow/core/platform/profile_utils/cpu_utils.cc:102] CPU Frequency: 2593910000 Hz\n",
      "2022-02-02 09:22:17.867519: I tensorflow/compiler/xla/service/service.cc:168] XLA service 0x7fba98000b20 initialized for platform Host (this does not guarantee that XLA will be used). Devices:\n",
      "2022-02-02 09:22:17.867559: I tensorflow/compiler/xla/service/service.cc:176]   StreamExecutor device (0): Host, Default Version\n"
     ]
    },
    {
     "data": {
      "text/plain": [
       "<tf.Tensor: shape=(30, 20, 200), dtype=float32, numpy=\n",
       "array([[[-0.04947042, -0.01726289,  0.01003261, ..., -0.0236459 ,\n",
       "         -0.04061132,  0.0112868 ],\n",
       "        [ 0.01877872,  0.04057011,  0.02904402, ..., -0.02325597,\n",
       "          0.03797121, -0.04257772],\n",
       "        [ 0.0260806 ,  0.00735643, -0.04015387, ...,  0.01959808,\n",
       "         -0.04022859,  0.01829315],\n",
       "        ...,\n",
       "        [ 0.00908511, -0.01404887,  0.00888603, ...,  0.00885384,\n",
       "          0.01481796, -0.01446038],\n",
       "        [-0.04799109, -0.01633018, -0.01514013, ..., -0.02224193,\n",
       "          0.03263113, -0.02917495],\n",
       "        [-0.02327321,  0.00197554,  0.02547408, ..., -0.03110969,\n",
       "          0.0154163 ,  0.02444842]],\n",
       "\n",
       "       [[ 0.02860862,  0.02919102,  0.01903499, ...,  0.03518225,\n",
       "         -0.04217093, -0.0434129 ],\n",
       "        [ 0.0317129 , -0.01013637, -0.00355775, ..., -0.04983249,\n",
       "          0.02552934, -0.00687069],\n",
       "        [ 0.01998167,  0.03409109, -0.00239972, ...,  0.00480884,\n",
       "          0.04139345, -0.01603973],\n",
       "        ...,\n",
       "        [ 0.00216966,  0.0497177 , -0.04176541, ..., -0.03626329,\n",
       "         -0.00458454,  0.03904143],\n",
       "        [-0.03388747, -0.0273331 ,  0.00974246, ..., -0.01789758,\n",
       "         -0.00532942, -0.01559995],\n",
       "        [-0.04817265, -0.0327879 ,  0.04498656, ...,  0.04854936,\n",
       "         -0.03859757,  0.0128363 ]],\n",
       "\n",
       "       [[-0.03795458, -0.04393003,  0.0143806 , ...,  0.04573381,\n",
       "          0.04718206,  0.03521445],\n",
       "        [ 0.00866038,  0.02272503, -0.04966047, ..., -0.04610354,\n",
       "         -0.03004537, -0.04485878],\n",
       "        [-0.0370095 ,  0.04679156, -0.00819354, ..., -0.0065906 ,\n",
       "         -0.0265339 , -0.03589792],\n",
       "        ...,\n",
       "        [ 0.02567259,  0.04166811,  0.04512477, ..., -0.0358432 ,\n",
       "          0.0021526 , -0.03125226],\n",
       "        [ 0.04028699, -0.0171545 ,  0.01158215, ..., -0.01823114,\n",
       "          0.00638159, -0.00297035],\n",
       "        [-0.03354758,  0.04360462, -0.01849053, ..., -0.01690861,\n",
       "          0.01486598,  0.02932303]],\n",
       "\n",
       "       ...,\n",
       "\n",
       "       [[-0.02366415, -0.02351192,  0.03498333, ...,  0.01478627,\n",
       "         -0.03000262,  0.013159  ],\n",
       "        [ 0.03932934, -0.0179637 ,  0.02291903, ...,  0.03274825,\n",
       "          0.02464617, -0.02105874],\n",
       "        [ 0.02870207, -0.04004061,  0.03877261, ..., -0.02178036,\n",
       "         -0.04162099, -0.02404399],\n",
       "        ...,\n",
       "        [-0.02417356, -0.01510067,  0.02601511, ...,  0.03207678,\n",
       "          0.0234058 , -0.01820602],\n",
       "        [-0.0089457 , -0.04455577, -0.04943969, ..., -0.04580826,\n",
       "          0.04358872,  0.03973967],\n",
       "        [ 0.01423843,  0.00669209,  0.03174765, ..., -0.01148888,\n",
       "         -0.03982801,  0.02689819]],\n",
       "\n",
       "       [[-0.02818271, -0.04444754, -0.04496118, ...,  0.02520527,\n",
       "          0.03645201,  0.01036   ],\n",
       "        [-0.02925819,  0.04095722,  0.03148708, ...,  0.01328739,\n",
       "         -0.04129155, -0.04236188],\n",
       "        [-0.0370095 ,  0.04679156, -0.00819354, ..., -0.0065906 ,\n",
       "         -0.0265339 , -0.03589792],\n",
       "        ...,\n",
       "        [ 0.03236983,  0.03893118, -0.01078565, ...,  0.01720606,\n",
       "          0.04326506, -0.03433241],\n",
       "        [ 0.0317129 , -0.01013637, -0.00355775, ..., -0.04983249,\n",
       "          0.02552934, -0.00687069],\n",
       "        [ 0.02885928, -0.03028934,  0.014326  , ...,  0.03673955,\n",
       "         -0.03001021,  0.04599496]],\n",
       "\n",
       "       [[-0.03832408, -0.04354438,  0.04457232, ..., -0.02234384,\n",
       "          0.04989037,  0.00547034],\n",
       "        [ 0.00910957,  0.00099702,  0.03923276, ..., -0.04815301,\n",
       "         -0.02114327,  0.04246401],\n",
       "        [ 0.0026486 , -0.03052437, -0.02952768, ...,  0.00310992,\n",
       "         -0.01564633,  0.00092003],\n",
       "        ...,\n",
       "        [-0.00167221,  0.02388295, -0.04908573, ...,  0.01061786,\n",
       "         -0.04072548, -0.04699326],\n",
       "        [-0.02622622, -0.01177552,  0.00958413, ...,  0.02188009,\n",
       "         -0.03652655, -0.03296914],\n",
       "        [ 0.03530674, -0.02427915,  0.03451571, ..., -0.02412566,\n",
       "          0.01024665, -0.02173476]]], dtype=float32)>"
      ]
     },
     "execution_count": 16,
     "metadata": {},
     "output_type": "execute_result"
    }
   ],
   "source": [
    "# Define where to get the data for our embeddings from\n",
    "inputs = embedding_layer(_input_data)\n",
    "inputs"
   ]
  },
  {
   "cell_type": "markdown",
   "metadata": {},
   "source": [
    "<h3>Constructing Recurrent Neural Networks</h3>\n"
   ]
  },
  {
   "cell_type": "markdown",
   "metadata": {
    "button": false,
    "deletable": true,
    "new_sheet": false,
    "run_control": {
     "read_only": false
    }
   },
   "source": [
    "In this step, we create the stacked LSTM using <b>tf.keras.layers.StackedRNNCells</b>, which is a 2 layer LSTM network:\n"
   ]
  },
  {
   "cell_type": "code",
   "execution_count": 17,
   "metadata": {},
   "outputs": [],
   "source": [
    "lstm_cell_l1 = tf.keras.layers.LSTMCell(hidden_size_l1)\n",
    "lstm_cell_l2 = tf.keras.layers.LSTMCell(hidden_size_l2)"
   ]
  },
  {
   "cell_type": "code",
   "execution_count": 18,
   "metadata": {
    "button": false,
    "deletable": true,
    "new_sheet": false,
    "run_control": {
     "read_only": false
    }
   },
   "outputs": [],
   "source": [
    "stacked_lstm = tf.keras.layers.StackedRNNCells([lstm_cell_l1, lstm_cell_l2])"
   ]
  },
  {
   "cell_type": "markdown",
   "metadata": {},
   "source": [
    "<b>tf.keras.layers.RNN</b> creates a recurrent neural network using <b>stacked_lstm</b>.\n",
    "\n",
    "The input should be a Tensor of shape: \\[batch_size, max_time, embedding_vector_size], in our case it would be (30, 20, 200)\n"
   ]
  },
  {
   "cell_type": "code",
   "execution_count": 19,
   "metadata": {},
   "outputs": [],
   "source": [
    "layer  =  tf.keras.layers.RNN(stacked_lstm,[batch_size, num_steps],return_state=False,stateful=True,trainable=True)"
   ]
  },
  {
   "cell_type": "markdown",
   "metadata": {
    "button": false,
    "deletable": true,
    "new_sheet": false,
    "run_control": {
     "read_only": false
    }
   },
   "source": [
    "Also, we initialize the states of the nework:\n",
    "\n",
    "<h4>_initial_state</h4>\n",
    "\n",
    "For each LSTM, there are 2 state matrices, c_state and m_state.  c_state and m_state represent \"Memory State\" and \"Cell State\". Each hidden layer, has a vector of size 30, which keeps the states. so, for 200 hidden units in each LSTM, we have a matrix of size \\[30x200]\n"
   ]
  },
  {
   "cell_type": "code",
   "execution_count": 20,
   "metadata": {},
   "outputs": [],
   "source": [
    "init_state = tf.Variable(tf.zeros([batch_size,embeding_vector_size]),trainable=False)"
   ]
  },
  {
   "cell_type": "code",
   "execution_count": 21,
   "metadata": {},
   "outputs": [],
   "source": [
    "layer.inital_state = init_state"
   ]
  },
  {
   "cell_type": "code",
   "execution_count": 22,
   "metadata": {},
   "outputs": [
    {
     "data": {
      "text/plain": [
       "<tf.Variable 'Variable:0' shape=(30, 200) dtype=float32, numpy=\n",
       "array([[0., 0., 0., ..., 0., 0., 0.],\n",
       "       [0., 0., 0., ..., 0., 0., 0.],\n",
       "       [0., 0., 0., ..., 0., 0., 0.],\n",
       "       ...,\n",
       "       [0., 0., 0., ..., 0., 0., 0.],\n",
       "       [0., 0., 0., ..., 0., 0., 0.],\n",
       "       [0., 0., 0., ..., 0., 0., 0.]], dtype=float32)>"
      ]
     },
     "execution_count": 22,
     "metadata": {},
     "output_type": "execute_result"
    }
   ],
   "source": [
    "layer.inital_state"
   ]
  },
  {
   "cell_type": "markdown",
   "metadata": {},
   "source": [
    "so, lets look at the outputs. The output of the stackedLSTM comes from 128 hidden_layer, and in each time step(=20), one of them get activated. we use the linear activation to map the 128 hidden layer to a \\[30X20 matrix]\n"
   ]
  },
  {
   "cell_type": "code",
   "execution_count": 23,
   "metadata": {},
   "outputs": [],
   "source": [
    "outputs = layer(inputs)"
   ]
  },
  {
   "cell_type": "code",
   "execution_count": 24,
   "metadata": {},
   "outputs": [
    {
     "data": {
      "text/plain": [
       "<tf.Tensor: shape=(30, 20, 128), dtype=float32, numpy=\n",
       "array([[[ 3.9987921e-04,  2.7162928e-04, -1.8273256e-03, ...,\n",
       "         -8.4275845e-04, -3.5573928e-05, -6.4405584e-04],\n",
       "        [ 1.7332443e-03, -7.3302246e-05, -2.6751324e-03, ...,\n",
       "         -2.2025632e-03,  7.7059021e-04, -1.3924895e-03],\n",
       "        [ 2.2403023e-03, -1.0424732e-03, -2.4573002e-03, ...,\n",
       "         -4.1359798e-03, -8.1757215e-05, -1.4381749e-03],\n",
       "        ...,\n",
       "        [-4.6300958e-03, -7.0775452e-04, -7.0918957e-04, ...,\n",
       "          7.7561107e-03,  3.8759192e-04,  3.4078653e-04],\n",
       "        [-3.9906623e-03,  7.1505892e-05, -1.5576009e-03, ...,\n",
       "          6.9731302e-03, -8.1751416e-05,  6.4818538e-05],\n",
       "        [-2.0319154e-03,  4.5104313e-04, -2.3522705e-03, ...,\n",
       "          7.5615789e-03,  2.0814086e-03,  4.9397972e-04]],\n",
       "\n",
       "       [[ 4.4724019e-04,  3.6454559e-04, -1.6101076e-03, ...,\n",
       "          1.7664571e-04, -1.3004716e-03,  1.8006766e-03],\n",
       "        [ 1.4657756e-04,  5.5554020e-04, -1.6699997e-03, ...,\n",
       "          4.2149804e-05, -2.4378360e-03,  3.0858908e-03],\n",
       "        [-8.9366245e-04,  1.1163106e-03, -1.7442232e-03, ...,\n",
       "         -8.0463837e-04, -4.3146922e-03,  4.0986617e-03],\n",
       "        ...,\n",
       "        [ 3.4216421e-03,  3.5321931e-04,  1.5793209e-03, ...,\n",
       "         -8.2480127e-04,  2.8167714e-03, -4.5907148e-03],\n",
       "        [ 4.8967550e-04, -1.9332229e-03,  8.6695491e-04, ...,\n",
       "         -1.2645581e-03,  1.0387099e-03, -3.4546400e-03],\n",
       "        [-8.8020880e-04, -4.1304245e-03,  1.7255961e-03, ...,\n",
       "         -2.5898374e-03,  2.5336146e-03, -1.2374744e-03]],\n",
       "\n",
       "       [[ 1.9321206e-03,  1.1549798e-03,  5.5984093e-04, ...,\n",
       "          1.9660854e-04,  3.7560478e-04,  1.6453170e-04],\n",
       "        [ 1.8650210e-03,  2.5983972e-03,  1.4612123e-03, ...,\n",
       "          6.4868474e-04,  2.7869057e-04, -9.0532913e-04],\n",
       "        [ 1.2955964e-03,  2.6128052e-03,  3.5027380e-03, ...,\n",
       "          8.9981797e-04,  1.3158008e-03, -1.3469094e-03],\n",
       "        ...,\n",
       "        [ 1.6258395e-03, -1.3485787e-03,  2.8474394e-03, ...,\n",
       "          2.2131815e-03, -3.4808359e-04,  5.3591386e-04],\n",
       "        [ 2.5442059e-03,  9.0334722e-04,  2.8348539e-03, ...,\n",
       "          2.4190268e-03, -1.3456637e-03,  3.9245983e-04],\n",
       "        [ 2.2260626e-03,  1.0873859e-03,  9.6468488e-04, ...,\n",
       "          1.7336223e-03, -3.8160519e-03, -1.0959780e-03]],\n",
       "\n",
       "       ...,\n",
       "\n",
       "       [[-9.9623180e-04,  5.1480391e-05,  1.1695817e-03, ...,\n",
       "         -1.0997576e-03,  4.8546647e-04, -6.1593928e-05],\n",
       "        [-1.7224401e-03,  6.3024712e-04,  2.8330160e-03, ...,\n",
       "         -9.3394553e-04,  3.7805995e-04, -1.1059543e-03],\n",
       "        [-1.9341310e-03,  1.3100677e-03,  3.0263122e-03, ...,\n",
       "         -1.3540958e-03,  1.2021881e-03, -1.3785765e-03],\n",
       "        ...,\n",
       "        [-3.4153822e-04,  4.0766341e-03, -5.6183827e-03, ...,\n",
       "         -3.1099305e-04, -1.0078896e-02, -4.2538107e-03],\n",
       "        [ 3.0815045e-05,  3.5629843e-03, -4.6716402e-03, ...,\n",
       "         -3.2793349e-04, -8.1726387e-03, -6.3167443e-03],\n",
       "        [-4.4748977e-05,  3.6014756e-03, -2.1054382e-03, ...,\n",
       "         -6.3856842e-04, -6.0528382e-03, -9.6453205e-03]],\n",
       "\n",
       "       [[ 1.0694645e-05, -1.0896215e-03, -1.3923147e-03, ...,\n",
       "         -4.4343295e-04, -1.4387915e-03, -6.9796335e-04],\n",
       "        [ 7.8290654e-04, -1.0671086e-03, -1.1033618e-03, ...,\n",
       "         -7.1759110e-05, -1.7202161e-03, -1.5211675e-03],\n",
       "        [ 3.7448181e-04, -1.4205643e-03,  8.7653764e-04, ...,\n",
       "         -3.4601582e-04, -1.0159452e-03, -1.7617177e-03],\n",
       "        ...,\n",
       "        [-6.9225142e-03,  1.1506075e-03, -8.5343665e-04, ...,\n",
       "         -5.6332848e-03, -7.4514188e-04,  4.8394277e-04],\n",
       "        [-6.6521093e-03,  2.1627431e-03, -1.8310222e-04, ...,\n",
       "         -6.0352883e-03, -6.1062642e-04, -6.0701579e-05],\n",
       "        [-7.2053117e-03,  3.2967669e-03,  1.9810197e-05, ...,\n",
       "         -6.5591694e-03, -9.9257089e-04, -1.3776385e-04]],\n",
       "\n",
       "       [[-6.3908665e-05,  1.0841038e-03,  4.4244420e-04, ...,\n",
       "         -1.1414782e-04,  1.6239240e-03,  3.4656838e-04],\n",
       "        [-2.0377363e-04,  1.7095789e-03,  7.6268138e-06, ...,\n",
       "         -7.0305000e-04,  2.7804687e-03, -6.4994313e-04],\n",
       "        [-1.7407526e-03,  2.5904973e-03,  3.3895622e-04, ...,\n",
       "         -2.8997299e-03,  3.3730816e-03, -2.6731420e-04],\n",
       "        ...,\n",
       "        [-4.1242060e-03, -2.5325243e-03, -5.5320846e-04, ...,\n",
       "         -3.6520425e-03, -2.2864654e-03, -9.1482425e-04],\n",
       "        [-4.6824408e-03, -1.9683628e-03, -2.8823875e-04, ...,\n",
       "         -2.6208945e-03, -4.3181754e-03,  7.4429426e-04],\n",
       "        [-3.2614886e-03, -4.6091710e-04,  4.0933255e-06, ...,\n",
       "         -2.0004986e-03, -4.5949174e-03,  4.6778156e-04]]], dtype=float32)>"
      ]
     },
     "execution_count": 24,
     "metadata": {},
     "output_type": "execute_result"
    }
   ],
   "source": [
    "outputs"
   ]
  },
  {
   "cell_type": "markdown",
   "metadata": {
    "button": false,
    "deletable": true,
    "new_sheet": false,
    "run_control": {
     "read_only": false
    }
   },
   "source": [
    "<h2>Dense layer</h2>\n",
    "We now create densely-connected neural network layer that would reshape the outputs tensor from  [30 x 20 x 128] to [30 x 20 x 10000].\n"
   ]
  },
  {
   "cell_type": "code",
   "execution_count": 25,
   "metadata": {},
   "outputs": [],
   "source": [
    "dense = tf.keras.layers.Dense(vocab_size)"
   ]
  },
  {
   "cell_type": "code",
   "execution_count": 26,
   "metadata": {},
   "outputs": [],
   "source": [
    "logits_outputs  = dense(outputs)"
   ]
  },
  {
   "cell_type": "code",
   "execution_count": 27,
   "metadata": {},
   "outputs": [
    {
     "name": "stdout",
     "output_type": "stream",
     "text": [
      "shape of the output from dense layer:  (30, 20, 10000)\n"
     ]
    }
   ],
   "source": [
    "print(\"shape of the output from dense layer: \", logits_outputs.shape) #(batch_size, sequence_length, vocab_size)"
   ]
  },
  {
   "cell_type": "markdown",
   "metadata": {},
   "source": [
    "<h2>Activation layer</h2>\n",
    "\n",
    "A softmax activation layers is also then applied to derive the probability of the output being in any of the multiclass(10000 in this case) possibilities.\n"
   ]
  },
  {
   "cell_type": "code",
   "execution_count": 28,
   "metadata": {},
   "outputs": [],
   "source": [
    "activation = tf.keras.layers.Activation('softmax')"
   ]
  },
  {
   "cell_type": "code",
   "execution_count": 29,
   "metadata": {},
   "outputs": [],
   "source": [
    "output_words_prob = activation(logits_outputs)"
   ]
  },
  {
   "cell_type": "code",
   "execution_count": 30,
   "metadata": {},
   "outputs": [
    {
     "name": "stdout",
     "output_type": "stream",
     "text": [
      "shape of the output from the activation layer:  (30, 20, 10000)\n"
     ]
    }
   ],
   "source": [
    "print(\"shape of the output from the activation layer: \", output_words_prob.shape) #(batch_size, sequence_length, vocab_size)"
   ]
  },
  {
   "cell_type": "markdown",
   "metadata": {},
   "source": [
    "Lets look at the probability of observing words for t=0 to t=20:\n"
   ]
  },
  {
   "cell_type": "code",
   "execution_count": 31,
   "metadata": {},
   "outputs": [
    {
     "name": "stdout",
     "output_type": "stream",
     "text": [
      "The probability of observing words in t=0 to t=20 tf.Tensor(\n",
      "[[1.00014578e-04 1.00008903e-04 1.00016056e-04 ... 1.00028323e-04\n",
      "  9.99920667e-05 9.99968979e-05]\n",
      " [1.00010147e-04 1.00004967e-04 1.00015044e-04 ... 1.00052363e-04\n",
      "  1.00001344e-04 9.99939366e-05]\n",
      " [9.99966142e-05 1.00000143e-04 1.00023484e-04 ... 1.00065532e-04\n",
      "  1.00003803e-04 1.00013145e-04]\n",
      " ...\n",
      " [1.00036530e-04 9.99174226e-05 9.99793629e-05 ... 1.00024845e-04\n",
      "  9.98764808e-05 9.99604817e-05]\n",
      " [1.00051016e-04 9.99236872e-05 9.99824115e-05 ... 1.00029763e-04\n",
      "  9.99038457e-05 9.99608383e-05]\n",
      " [1.00071928e-04 9.99440235e-05 9.99834447e-05 ... 1.00034769e-04\n",
      "  9.99191034e-05 9.99446202e-05]], shape=(20, 10000), dtype=float32)\n"
     ]
    }
   ],
   "source": [
    "print(\"The probability of observing words in t=0 to t=20\", output_words_prob[0,0:num_steps])"
   ]
  },
  {
   "cell_type": "markdown",
   "metadata": {
    "button": false,
    "deletable": true,
    "new_sheet": false,
    "run_control": {
     "read_only": false
    }
   },
   "source": [
    "<h3>Prediction</h3>\n",
    "What is the word correspond to the probability output? Lets use the maximum probability:\n"
   ]
  },
  {
   "cell_type": "code",
   "execution_count": 32,
   "metadata": {},
   "outputs": [
    {
     "data": {
      "text/plain": [
       "array([4330, 2942,  383, 2942, 8764, 8764, 8764, 9264, 8920, 8920, 6729,\n",
       "       7936, 7936, 7924, 9164,  830, 9034, 8660, 8660, 8660])"
      ]
     },
     "execution_count": 32,
     "metadata": {},
     "output_type": "execute_result"
    }
   ],
   "source": [
    "np.argmax(output_words_prob[0,0:num_steps], axis=1)"
   ]
  },
  {
   "cell_type": "markdown",
   "metadata": {
    "button": false,
    "deletable": true,
    "new_sheet": false,
    "run_control": {
     "read_only": false
    }
   },
   "source": [
    "So, what is the ground truth for the first word of first sentence? You can get it from target tensor, if you want to find the embedding vector:\n"
   ]
  },
  {
   "cell_type": "code",
   "execution_count": 33,
   "metadata": {
    "button": false,
    "deletable": true,
    "new_sheet": false,
    "run_control": {
     "read_only": false
    }
   },
   "outputs": [
    {
     "data": {
      "text/plain": [
       "array([9971, 9972, 9974, 9975, 9976, 9980, 9981, 9982, 9983, 9984, 9986,\n",
       "       9987, 9988, 9989, 9991, 9992, 9993, 9994, 9995, 9996], dtype=int32)"
      ]
     },
     "execution_count": 33,
     "metadata": {},
     "output_type": "execute_result"
    }
   ],
   "source": [
    "_targets[0]"
   ]
  },
  {
   "cell_type": "markdown",
   "metadata": {
    "button": false,
    "new_sheet": false,
    "run_control": {
     "read_only": false
    }
   },
   "source": [
    "<h4>Objective function</h4>\n",
    "\n",
    "How similar the predicted words are to the target words?\n",
    "\n",
    "Now we have to define our objective function, to calculate the similarity of predicted values to ground truth, and then, penalize the model with the error. Our objective is to minimize loss function, that is, to minimize the average negative log probability of the target words:\n",
    "\n",
    "$$\\text{loss} = -\\frac{1}{N}\\sum\\_{i=1}^{N} \\ln p\\_{\\text{target}\\_i}$$\n",
    "\n",
    "This function is already implemented and available in TensorFlow through *tf.keras.losses.sparse_categorical_crossentropy*. It calculates the categorical cross-entropy loss for <b>logits</b> and the <b>target</b> sequence.\n",
    "\n",
    "The arguments of this function are:\n",
    "\n",
    "<ul>\n",
    "    <li>logits: List of 2D Tensors of shape [batch_size x num_decoder_symbols].</li>  \n",
    "    <li>targets: List of 1D batch-sized int32 Tensors of the same length as logits.</li>   \n",
    "</ul>\n"
   ]
  },
  {
   "cell_type": "code",
   "execution_count": 34,
   "metadata": {},
   "outputs": [],
   "source": [
    "def crossentropy(y_true, y_pred):\n",
    "    return tf.keras.losses.sparse_categorical_crossentropy(y_true, y_pred)"
   ]
  },
  {
   "cell_type": "code",
   "execution_count": 35,
   "metadata": {},
   "outputs": [],
   "source": [
    "loss  = crossentropy(_targets, output_words_prob)"
   ]
  },
  {
   "cell_type": "markdown",
   "metadata": {
    "button": false,
    "new_sheet": false,
    "run_control": {
     "read_only": false
    }
   },
   "source": [
    "Lets look at the first 10 values of loss:\n"
   ]
  },
  {
   "cell_type": "code",
   "execution_count": 36,
   "metadata": {},
   "outputs": [
    {
     "data": {
      "text/plain": [
       "<tf.Tensor: shape=(10,), dtype=float32, numpy=\n",
       "array([9.210427 , 9.210325 , 9.2104845, 9.210108 , 9.210665 , 9.210318 ,\n",
       "       9.210119 , 9.21047  , 9.210785 , 9.210052 ], dtype=float32)>"
      ]
     },
     "execution_count": 36,
     "metadata": {},
     "output_type": "execute_result"
    }
   ],
   "source": [
    "loss[0,:10]"
   ]
  },
  {
   "cell_type": "markdown",
   "metadata": {},
   "source": [
    "Now, we define cost as average of the losses:\n"
   ]
  },
  {
   "cell_type": "code",
   "execution_count": 37,
   "metadata": {},
   "outputs": [
    {
     "data": {
      "text/plain": [
       "<tf.Tensor: shape=(), dtype=float32, numpy=184.20738>"
      ]
     },
     "execution_count": 37,
     "metadata": {},
     "output_type": "execute_result"
    }
   ],
   "source": [
    "cost = tf.reduce_sum(loss / batch_size)\n",
    "cost"
   ]
  },
  {
   "cell_type": "markdown",
   "metadata": {
    "button": false,
    "deletable": true,
    "new_sheet": false,
    "run_control": {
     "read_only": false
    }
   },
   "source": [
    "<h3>Training</h3>\n",
    "\n",
    "To do training for our network, we have to take the following steps:\n",
    "\n",
    "<ol>\n",
    "    <li>Define the optimizer.</li>\n",
    "    <li>Assemble layers to build model.</li>\n",
    "    <li>Calculate the gradients based on the loss function.</li>\n",
    "    <li>Apply the optimizer to the variables/gradients tuple.</li>\n",
    "</ol>\n"
   ]
  },
  {
   "cell_type": "markdown",
   "metadata": {
    "button": false,
    "deletable": true,
    "new_sheet": false,
    "run_control": {
     "read_only": false
    }
   },
   "source": [
    "<h4>1. Define Optimizer</h4>\n"
   ]
  },
  {
   "cell_type": "code",
   "execution_count": 38,
   "metadata": {},
   "outputs": [],
   "source": [
    "# Create a variable for the learning rate\n",
    "lr = tf.Variable(0.0, trainable=False)\n",
    "optimizer = tf.keras.optimizers.SGD(lr=lr, clipnorm=max_grad_norm)"
   ]
  },
  {
   "cell_type": "markdown",
   "metadata": {},
   "source": [
    "<h4>2. Assemble layers to build model.</h4>\n"
   ]
  },
  {
   "cell_type": "code",
   "execution_count": 39,
   "metadata": {},
   "outputs": [
    {
     "name": "stdout",
     "output_type": "stream",
     "text": [
      "Model: \"sequential\"\n",
      "_________________________________________________________________\n",
      "Layer (type)                 Output Shape              Param #   \n",
      "=================================================================\n",
      "embedding_vocab (Embedding)  (30, 20, 200)             2000000   \n",
      "_________________________________________________________________\n",
      "rnn (RNN)                    (30, 20, 128)             671088    \n",
      "_________________________________________________________________\n",
      "dense (Dense)                (30, 20, 10000)           1290000   \n",
      "_________________________________________________________________\n",
      "activation (Activation)      (30, 20, 10000)           0         \n",
      "=================================================================\n",
      "Total params: 3,961,088\n",
      "Trainable params: 3,955,088\n",
      "Non-trainable params: 6,000\n",
      "_________________________________________________________________\n"
     ]
    }
   ],
   "source": [
    "model = tf.keras.Sequential()\n",
    "model.add(embedding_layer)\n",
    "model.add(layer)\n",
    "model.add(dense)\n",
    "model.add(activation)\n",
    "model.compile(loss=crossentropy, optimizer=optimizer)\n",
    "model.summary()"
   ]
  },
  {
   "cell_type": "markdown",
   "metadata": {
    "button": false,
    "new_sheet": false,
    "run_control": {
     "read_only": false
    }
   },
   "source": [
    "<h4>2. Trainable Variables</h4>\n"
   ]
  },
  {
   "cell_type": "markdown",
   "metadata": {
    "button": false,
    "new_sheet": false,
    "run_control": {
     "read_only": false
    }
   },
   "source": [
    "Defining a variable, if you passed <i>trainable=True</i>, the variable constructor automatically adds new variables to the graph collection <b>GraphKeys.TRAINABLE_VARIABLES</b>. Now, using <i>tf.trainable_variables()</i> you can get all variables created with <b>trainable=True</b>.\n"
   ]
  },
  {
   "cell_type": "code",
   "execution_count": 40,
   "metadata": {
    "button": false,
    "new_sheet": false,
    "run_control": {
     "read_only": false
    }
   },
   "outputs": [],
   "source": [
    "# Get all TensorFlow variables marked as \"trainable\" (i.e. all of them except _lr, which we just created)\n",
    "tvars = model.trainable_variables"
   ]
  },
  {
   "cell_type": "markdown",
   "metadata": {
    "button": false,
    "new_sheet": false,
    "run_control": {
     "read_only": false
    }
   },
   "source": [
    "Note: we can find the name and scope of all variables:\n"
   ]
  },
  {
   "cell_type": "code",
   "execution_count": 41,
   "metadata": {
    "button": false,
    "new_sheet": false,
    "run_control": {
     "read_only": false
    }
   },
   "outputs": [
    {
     "data": {
      "text/plain": [
       "['embedding_vocab/embeddings:0',\n",
       " 'rnn/stacked_rnn_cells/lstm_cell/kernel:0',\n",
       " 'rnn/stacked_rnn_cells/lstm_cell/recurrent_kernel:0',\n",
       " 'rnn/stacked_rnn_cells/lstm_cell/bias:0',\n",
       " 'rnn/stacked_rnn_cells/lstm_cell_1/kernel:0',\n",
       " 'rnn/stacked_rnn_cells/lstm_cell_1/recurrent_kernel:0',\n",
       " 'rnn/stacked_rnn_cells/lstm_cell_1/bias:0',\n",
       " 'dense/kernel:0',\n",
       " 'dense/bias:0']"
      ]
     },
     "execution_count": 41,
     "metadata": {},
     "output_type": "execute_result"
    }
   ],
   "source": [
    "[v.name for v in tvars] "
   ]
  },
  {
   "cell_type": "markdown",
   "metadata": {
    "button": false,
    "new_sheet": false,
    "run_control": {
     "read_only": false
    }
   },
   "source": [
    "<h4>3. Calculate the gradients based on the loss function</h4>\n"
   ]
  },
  {
   "cell_type": "markdown",
   "metadata": {
    "button": false,
    "deletable": true,
    "new_sheet": false,
    "run_control": {
     "read_only": false
    }
   },
   "source": [
    "**Gradient**: The gradient of a function is the slope of its derivative (line), or in other words, the rate of change of a function. It's a vector (a direction to move) that points in the direction of greatest increase of the function, and calculated by the <b>derivative</b> operation.\n"
   ]
  },
  {
   "cell_type": "markdown",
   "metadata": {},
   "source": [
    "First lets recall the gradient function using an toy example:\n",
    "$$ z = \\left(2x^2 + 3xy\\right)$$\n"
   ]
  },
  {
   "cell_type": "code",
   "execution_count": 42,
   "metadata": {},
   "outputs": [],
   "source": [
    "x = tf.constant(1.0)\n",
    "y =  tf.constant(2.0)\n",
    "with tf.GradientTape(persistent=True) as g:\n",
    "    g.watch(x)\n",
    "    g.watch(y)\n",
    "    func_test = 2 * x * x + 3 * x * y"
   ]
  },
  {
   "cell_type": "markdown",
   "metadata": {},
   "source": [
    "The <b>tf.gradients()</b> function allows you to compute the symbolic gradient of one tensor with respect to one or more other tensors—including variables. <b>tf.gradients(func, xs)</b> constructs symbolic partial derivatives of sum of <b>func</b> w\\.r.t. <i>x</i> in <b>xs</b>.\n",
    "\n",
    "Now, lets look at the derivitive w\\.r.t. <b>var_x</b>:\n",
    "$$ \\frac{\\partial :}{\\partial \\:x}\\left(2x^2 + 3xy\\right) = 4x + 3y $$\n"
   ]
  },
  {
   "cell_type": "code",
   "execution_count": 43,
   "metadata": {},
   "outputs": [
    {
     "name": "stdout",
     "output_type": "stream",
     "text": [
      "tf.Tensor(10.0, shape=(), dtype=float32)\n"
     ]
    }
   ],
   "source": [
    "var_grad = g.gradient(func_test, x) # Will compute to 10.0\n",
    "print(var_grad)"
   ]
  },
  {
   "cell_type": "markdown",
   "metadata": {},
   "source": [
    "the derivative w\\.r.t. <b>var_y</b>:\n",
    "$$ \\frac{\\partial :}{\\partial \\:y}\\left(2x^2 + 3xy\\right) = 3x $$\n"
   ]
  },
  {
   "cell_type": "code",
   "execution_count": 44,
   "metadata": {},
   "outputs": [
    {
     "name": "stdout",
     "output_type": "stream",
     "text": [
      "tf.Tensor(3.0, shape=(), dtype=float32)\n"
     ]
    }
   ],
   "source": [
    "var_grad = g.gradient(func_test, y) # Will compute to 3.0\n",
    "print(var_grad)"
   ]
  },
  {
   "cell_type": "markdown",
   "metadata": {},
   "source": [
    "Now, we can look at gradients w\\.r.t all variables:\n"
   ]
  },
  {
   "cell_type": "code",
   "execution_count": 45,
   "metadata": {},
   "outputs": [],
   "source": [
    "with tf.GradientTape() as tape:\n",
    "    # Forward pass.\n",
    "    output_words_prob = model(_input_data)\n",
    "    # Loss value for this batch.\n",
    "    loss  = crossentropy(_targets, output_words_prob)\n",
    "    cost = tf.reduce_sum(loss,axis=0) / batch_size"
   ]
  },
  {
   "cell_type": "code",
   "execution_count": 46,
   "metadata": {},
   "outputs": [],
   "source": [
    "# Get gradients of loss wrt the trainable variables.\n",
    "grad_t_list = tape.gradient(cost, tvars)"
   ]
  },
  {
   "cell_type": "code",
   "execution_count": 47,
   "metadata": {},
   "outputs": [
    {
     "name": "stdout",
     "output_type": "stream",
     "text": [
      "[<tensorflow.python.framework.indexed_slices.IndexedSlices object at 0x7fbb17402350>, <tf.Tensor: shape=(200, 1024), dtype=float32, numpy=\n",
      "array([[ 5.1042764e-07, -2.5506597e-07,  1.5021999e-07, ...,\n",
      "        -5.1926202e-07,  3.6153304e-07, -2.0076867e-07],\n",
      "       [-5.4011264e-07,  2.7736746e-07,  8.0269558e-08, ...,\n",
      "         2.1845844e-07, -1.8359728e-07, -1.2691477e-07],\n",
      "       [ 5.8881722e-07,  1.1886802e-06,  8.9667651e-08, ...,\n",
      "         3.3991125e-07, -2.2291545e-08, -7.5584481e-08],\n",
      "       ...,\n",
      "       [ 3.1506542e-07,  1.0702831e-06, -5.9620504e-08, ...,\n",
      "         1.1307877e-07,  1.6046489e-07, -9.4691242e-09],\n",
      "       [ 5.1984017e-10, -1.5818567e-06, -2.6202292e-07, ...,\n",
      "        -1.5622213e-07, -2.0188244e-07,  4.7702974e-07],\n",
      "       [ 4.6704415e-08, -1.3881006e-06, -3.4994230e-07, ...,\n",
      "        -7.5280823e-08,  2.3007105e-07, -2.7853287e-07]], dtype=float32)>, <tf.Tensor: shape=(256, 1024), dtype=float32, numpy=\n",
      "array([[-1.0502906e-07,  2.0009086e-08,  4.5067246e-08, ...,\n",
      "         6.9933677e-09,  5.2461594e-08, -1.0433399e-07],\n",
      "       [ 5.0448865e-08,  1.8527587e-07,  9.1477624e-08, ...,\n",
      "         2.4659116e-07, -2.6739006e-08, -9.6917823e-08],\n",
      "       [ 8.3749811e-08, -1.8927921e-07, -6.7420572e-08, ...,\n",
      "        -4.5954430e-08,  2.8404182e-08, -2.2887325e-07],\n",
      "       ...,\n",
      "       [-5.9210176e-08, -2.4123187e-07,  4.3219348e-08, ...,\n",
      "         4.1700883e-07, -1.0765409e-07, -2.8778963e-08],\n",
      "       [ 9.2722075e-08,  2.4098887e-07,  1.0214858e-08, ...,\n",
      "        -6.8513792e-08, -1.6626817e-07, -5.6228444e-09],\n",
      "       [-3.2681797e-08,  1.0542351e-07, -1.0741625e-07, ...,\n",
      "         8.4232482e-08, -6.1319263e-08, -2.1134508e-07]], dtype=float32)>, <tf.Tensor: shape=(1024,), dtype=float32, numpy=\n",
      "array([ 1.8553737e-05, -8.2382730e-06,  2.5897557e-06, ...,\n",
      "       -1.4052570e-05,  3.5962908e-06,  3.2985423e-05], dtype=float32)>, <tf.Tensor: shape=(256, 512), dtype=float32, numpy=\n",
      "array([[ 5.0819082e-08,  4.5986872e-07,  2.0373878e-07, ...,\n",
      "        -1.6398064e-07,  1.7520563e-07, -2.4123096e-08],\n",
      "       [-9.6253714e-08, -5.0883152e-08, -1.8290788e-07, ...,\n",
      "        -1.1714053e-07,  2.2424767e-07,  6.7795713e-07],\n",
      "       [ 1.7844209e-07,  1.1983150e-07,  1.0281898e-07, ...,\n",
      "         2.9027177e-07,  1.5728332e-07, -2.8072509e-07],\n",
      "       ...,\n",
      "       [ 1.8324229e-07,  4.2025199e-08, -1.2910947e-07, ...,\n",
      "         3.0176643e-08, -2.7718620e-08, -3.9184269e-07],\n",
      "       [ 6.3725025e-09, -2.2726401e-07,  5.4644733e-08, ...,\n",
      "        -1.3204381e-07, -1.9073417e-07, -1.8752999e-09],\n",
      "       [-4.6491238e-09,  2.7194739e-07,  8.0191782e-08, ...,\n",
      "        -3.7455618e-07,  1.9644531e-08, -1.7799394e-07]], dtype=float32)>, <tf.Tensor: shape=(128, 512), dtype=float32, numpy=\n",
      "array([[-1.06285889e-07,  1.05423794e-07,  9.55779527e-08, ...,\n",
      "        -1.47678747e-07, -1.22634916e-07,  3.16283888e-09],\n",
      "       [ 1.87149325e-07, -3.93606712e-07, -1.82911066e-07, ...,\n",
      "         3.15448631e-07,  2.01464587e-08,  3.44410296e-08],\n",
      "       [-5.57617028e-08, -4.24915818e-08, -3.85506894e-07, ...,\n",
      "         1.16852227e-07, -9.43599758e-08,  7.77328779e-08],\n",
      "       ...,\n",
      "       [-6.85129748e-08,  1.56606021e-07,  2.41610714e-08, ...,\n",
      "        -6.01937813e-07, -2.28117472e-07,  1.67279438e-07],\n",
      "       [ 1.32941025e-07, -1.35084548e-07, -4.26005684e-08, ...,\n",
      "         1.85354523e-07,  2.76314495e-07,  1.32796956e-07],\n",
      "       [ 2.17344436e-08, -9.82237722e-08, -1.37103584e-07, ...,\n",
      "        -1.05207212e-08,  2.43755274e-08,  5.19268497e-07]], dtype=float32)>, <tf.Tensor: shape=(512,), dtype=float32, numpy=\n",
      "array([ 3.43822430e-05, -8.11048230e-05, -1.37242969e-05,  1.69857776e-06,\n",
      "        3.84646664e-05,  8.02860995e-06,  2.78647931e-05, -5.96741666e-06,\n",
      "       -2.16779063e-06,  5.52463025e-05, -2.98505856e-05,  4.58704308e-05,\n",
      "        1.14846525e-05,  6.06132526e-05,  8.12664657e-05,  2.36090491e-05,\n",
      "        4.11973233e-05,  4.04669263e-05,  5.73718862e-05,  3.30965886e-05,\n",
      "        4.61980308e-05, -1.55787147e-05, -4.16210969e-06, -1.89544953e-05,\n",
      "       -9.76613774e-06, -1.76655358e-05,  1.41453056e-05, -5.85193175e-06,\n",
      "       -3.91230933e-05,  1.33376989e-05, -1.62703218e-05,  2.72093766e-05,\n",
      "       -2.34363579e-05, -6.22731677e-05, -6.48968216e-06, -4.09217901e-05,\n",
      "       -3.28739270e-06,  3.28630485e-05,  6.12434178e-06,  2.98291980e-06,\n",
      "        4.92924937e-06,  4.35758193e-06, -1.33386948e-05,  1.55328016e-05,\n",
      "        9.10275503e-07, -5.33625534e-05, -2.20542170e-05,  7.23072080e-05,\n",
      "       -4.40906297e-06, -4.60648771e-05, -2.13513522e-06,  1.42032068e-05,\n",
      "        2.95881327e-05,  1.85976733e-05,  2.19278409e-05,  2.28552599e-05,\n",
      "        2.74061495e-06, -2.94059282e-06, -2.75367493e-05,  2.37491295e-05,\n",
      "       -1.55215112e-05, -3.57704594e-05, -2.41131584e-05,  1.56430033e-05,\n",
      "        1.36926101e-05, -1.07819542e-05, -4.76732057e-05, -6.71418675e-05,\n",
      "       -6.91751775e-05,  1.77435340e-05, -2.17137003e-05,  2.74648428e-05,\n",
      "        1.91719337e-05, -3.59585538e-05,  2.57663723e-05, -3.88638091e-06,\n",
      "        8.23662413e-05,  1.39243339e-05, -6.16688194e-05,  1.37639136e-05,\n",
      "        7.95972392e-06,  9.64235223e-05,  5.87747309e-06, -4.18377822e-05,\n",
      "       -3.02576445e-05, -5.54942972e-06, -3.19378451e-05,  8.95215817e-06,\n",
      "       -1.34353004e-05,  9.06356727e-05, -8.87887109e-06,  4.64780132e-05,\n",
      "       -6.22682592e-07, -2.82840174e-05, -7.59593877e-06, -1.44018341e-05,\n",
      "        4.99316266e-05,  1.18330754e-05, -3.89414845e-06,  7.79555921e-06,\n",
      "        1.71471729e-05,  5.81304994e-06, -2.32359616e-05,  8.52280864e-05,\n",
      "       -3.97032854e-05, -1.84072633e-07, -8.66785558e-06,  2.53654653e-05,\n",
      "       -4.24710306e-05,  2.07641388e-05, -1.86553953e-05, -3.64255247e-05,\n",
      "       -8.77145067e-06,  2.98646246e-05, -1.55974831e-05, -5.16404471e-05,\n",
      "        2.81410394e-06, -1.18805256e-05,  5.72916251e-05, -3.58054604e-05,\n",
      "        3.71811911e-05,  3.49082111e-05, -2.68690637e-05,  3.53710784e-05,\n",
      "       -1.22932797e-05,  6.65699699e-05,  2.32803941e-05,  5.38881250e-06,\n",
      "        3.73296134e-05, -1.12175017e-04, -6.91713649e-05, -2.55002487e-06,\n",
      "        6.94373375e-05,  1.62718025e-05,  1.56205588e-05,  2.55902842e-06,\n",
      "        8.07921424e-06,  8.23783994e-05, -7.98669134e-07,  8.41998626e-05,\n",
      "        1.22350393e-05,  7.33592897e-05,  1.31861729e-04,  4.57495844e-05,\n",
      "        2.92222066e-05,  2.57443608e-05,  5.66282106e-05,  4.52373861e-05,\n",
      "        5.16237560e-05,  8.22076981e-06, -9.22890740e-06, -2.01741495e-05,\n",
      "       -3.28181195e-05, -1.92701227e-05,  1.26022060e-05, -2.29001780e-05,\n",
      "       -5.44841387e-05,  6.25637949e-06, -3.70190610e-05,  3.20044419e-05,\n",
      "       -4.18925883e-05, -7.59975374e-05, -2.45327028e-05, -5.84946865e-05,\n",
      "        2.71382578e-06,  2.37690692e-05,  9.95602932e-06,  9.00334635e-06,\n",
      "        2.97914230e-05, -5.93584446e-07, -1.83915963e-05,  3.36232260e-05,\n",
      "        1.50994465e-05, -3.75918171e-05, -2.36136621e-05,  1.12993279e-04,\n",
      "        1.85362151e-05, -8.52139856e-05, -3.12918201e-06,  1.62864617e-05,\n",
      "        2.04243515e-05,  6.80502344e-05,  4.02482692e-05,  2.68479744e-05,\n",
      "       -2.11691076e-06, -4.58103113e-06, -5.62054338e-05,  1.58232251e-06,\n",
      "       -1.78473165e-05, -2.06513996e-05, -3.41514533e-05,  3.66686181e-05,\n",
      "        2.04581338e-05, -3.88936533e-05, -6.68341163e-05, -8.64719259e-05,\n",
      "       -1.08506356e-04,  4.53129178e-05, -4.33693858e-05,  2.94112979e-05,\n",
      "        2.92796467e-05, -4.24751415e-05,  2.46601321e-05, -1.60084346e-05,\n",
      "        1.17274256e-04,  1.11118179e-05, -8.92182652e-05,  3.80598067e-06,\n",
      "        7.29492967e-07,  1.51077416e-04,  3.49655238e-06, -7.96777531e-05,\n",
      "       -2.43803624e-05, -3.95799798e-05, -4.77266003e-05, -2.38222383e-05,\n",
      "       -1.77741258e-05,  1.27386927e-04, -4.42934324e-05,  7.72452477e-05,\n",
      "        1.62121414e-05, -1.91099643e-05,  1.45793147e-05,  4.16115618e-05,\n",
      "        5.24625284e-05,  4.56978014e-05, -2.86038721e-05,  9.93540561e-06,\n",
      "        4.50273001e-05,  9.48115030e-06, -4.29362262e-05,  1.16828422e-04,\n",
      "       -8.08250770e-05, -3.20733307e-05,  1.72498076e-05,  2.81591601e-05,\n",
      "       -6.48133064e-05,  3.04582063e-05, -7.94741482e-06, -4.51374071e-05,\n",
      "       -2.16050466e-08, -1.84395572e-06,  8.64045705e-06, -8.31742727e-05,\n",
      "        2.35513307e-05, -2.36755277e-05,  5.58255997e-05, -3.18697967e-05,\n",
      "        3.93575319e-05,  3.48262547e-05, -3.89635024e-05,  4.72267748e-05,\n",
      "       -2.94079109e-05,  5.95449237e-05,  4.02328951e-05,  8.29108649e-06,\n",
      "       -4.57199989e-03, -4.41997014e-02, -2.25143284e-02, -4.73239720e-02,\n",
      "       -1.46701448e-02, -8.96439329e-03, -1.28713092e-02,  3.99663392e-03,\n",
      "        3.86959463e-02,  1.14455335e-02, -2.97365934e-02,  3.14369798e-02,\n",
      "        2.00592112e-02, -6.64259121e-03,  5.44829071e-02,  8.67322460e-03,\n",
      "       -4.91087437e-02, -1.41657051e-02, -2.71329135e-02,  1.23999314e-02,\n",
      "       -1.36826234e-02, -5.84333166e-02,  2.19361950e-03, -3.20983902e-02,\n",
      "        5.84010547e-03,  1.86970923e-02, -1.09915100e-02, -2.25407667e-02,\n",
      "        1.24687636e-02,  1.93265416e-02, -4.58855787e-03, -3.71592417e-02,\n",
      "        1.66553799e-02, -5.18541113e-02, -4.00947267e-03, -1.17044821e-02,\n",
      "        1.41348885e-02, -8.22295714e-03,  3.40518132e-02,  1.43725025e-02,\n",
      "        2.02052947e-02, -5.12121096e-02, -1.29463635e-02,  5.36465272e-02,\n",
      "        4.64207269e-02,  3.34851444e-02, -4.69371956e-03,  3.93971577e-02,\n",
      "        6.16069026e-02,  3.16424221e-02, -2.96629965e-04,  8.20757356e-03,\n",
      "       -1.17744878e-02,  6.49443492e-02,  2.30457149e-02,  2.33219657e-02,\n",
      "       -1.14375399e-02, -1.00355688e-02,  1.34040779e-02,  2.89041977e-02,\n",
      "       -8.05501081e-03,  1.14345504e-02,  2.82347314e-02,  9.16575454e-03,\n",
      "        2.91432049e-02, -3.28203887e-02,  6.35947734e-02, -1.55937690e-02,\n",
      "       -3.47320288e-02,  7.07128085e-03,  4.02921140e-02,  2.15646327e-02,\n",
      "       -1.68445315e-02, -2.43190285e-02, -2.07715854e-03,  8.61365162e-03,\n",
      "       -4.68341000e-02,  1.06095467e-02, -3.60592976e-02, -1.45837665e-04,\n",
      "       -1.35987727e-02, -6.91760033e-02,  4.57760990e-02,  1.75223034e-02,\n",
      "        3.22855040e-02, -2.54789777e-02,  2.67239101e-03, -3.25480849e-02,\n",
      "        4.01709862e-02,  7.75866285e-02,  3.92965116e-02, -3.73270595e-03,\n",
      "        1.27482070e-02,  1.59653388e-02, -1.56375598e-02, -1.04491487e-02,\n",
      "        3.24740708e-02,  5.96157387e-02, -1.72569975e-02, -2.47766543e-02,\n",
      "       -1.20808501e-02,  2.78587118e-02, -1.36427339e-02, -7.26269931e-02,\n",
      "       -6.83464259e-02, -2.23584324e-02,  3.05028334e-02, -3.46209109e-02,\n",
      "       -4.16929759e-02,  3.83017920e-02, -3.66780236e-02,  9.42369364e-03,\n",
      "       -9.17875022e-03,  7.26678781e-03,  2.55759209e-02,  3.51558998e-02,\n",
      "       -6.98112696e-03, -2.02633888e-02, -4.85987402e-02,  1.06894644e-02,\n",
      "       -3.00143734e-02,  9.15317796e-04, -2.28239633e-02,  3.54853719e-02,\n",
      "       -2.97108782e-03, -2.41159610e-02, -1.36754580e-03,  6.62823319e-02,\n",
      "        2.89972668e-05, -1.02939463e-04, -2.43804679e-05,  1.28746378e-05,\n",
      "        3.99125784e-05,  5.50368577e-06,  3.35187724e-05,  1.88263311e-06,\n",
      "       -6.22396874e-06,  4.65149387e-05, -3.04880086e-05,  5.66579984e-05,\n",
      "        6.52839208e-06,  6.01545762e-05,  9.34301788e-05,  1.93421129e-05,\n",
      "        5.25380638e-05,  3.26760637e-05,  5.11486360e-05,  2.18892674e-05,\n",
      "        4.64697005e-05, -7.90258855e-06, -4.62804383e-06, -1.17107920e-05,\n",
      "       -2.41295729e-05, -1.66148457e-05,  1.51621416e-05, -6.12259100e-07,\n",
      "       -3.38955615e-05,  8.44789793e-06, -2.18194818e-05,  3.92236616e-05,\n",
      "       -2.36871783e-05, -6.51257506e-05, -6.90273464e-06, -4.45861806e-05,\n",
      "       -7.97538451e-06,  3.45608605e-05,  9.03897580e-06,  1.88322247e-05,\n",
      "        1.43175812e-05,  6.57083228e-06, -1.41490764e-05,  1.69447048e-05,\n",
      "        6.84733550e-06, -6.23349115e-05, -2.73227433e-05,  7.69186154e-05,\n",
      "       -5.28007331e-06, -7.33788329e-05, -1.64990888e-06,  9.21546325e-06,\n",
      "        3.15828511e-05,  2.86054328e-05,  2.16149092e-05,  1.58595103e-05,\n",
      "        1.00071566e-06,  2.83744157e-07, -4.31255357e-05,  2.32255334e-05,\n",
      "       -1.16326446e-05, -3.57308818e-05, -3.21805455e-05,  1.82612312e-05,\n",
      "        1.62233591e-05, -1.28807997e-05, -6.25243338e-05, -7.12524925e-05,\n",
      "       -9.05734487e-05,  3.25992114e-05, -4.02021105e-05,  2.84006237e-05,\n",
      "        2.26974043e-05, -3.65264059e-05,  2.90351927e-05,  1.76483445e-06,\n",
      "        8.96000056e-05,  3.97743270e-06, -6.51085284e-05,  1.27661333e-05,\n",
      "        1.05545223e-05,  1.08790911e-04, -6.82410973e-06, -4.76590249e-05,\n",
      "       -3.41994237e-05, -1.69775012e-05, -3.72991417e-05,  3.52587722e-06,\n",
      "       -1.56755632e-05,  1.13113099e-04, -7.84963777e-06,  5.02239163e-05,\n",
      "       -5.38547283e-07, -2.77957333e-05, -9.25222594e-06, -7.00953933e-06,\n",
      "        4.85866112e-05,  2.07680860e-05, -7.93084109e-06,  1.27283056e-05,\n",
      "        3.11506592e-05,  8.57556188e-06, -2.59952194e-05,  8.88217037e-05,\n",
      "       -5.27615339e-05, -1.76983644e-06, -3.14532736e-06,  2.49036166e-05,\n",
      "       -4.25966900e-05,  2.18488003e-05, -2.45571900e-05, -3.70524031e-05,\n",
      "       -7.10878385e-06,  2.33249793e-05, -1.62426822e-05, -5.86030728e-05,\n",
      "       -3.79917992e-06, -1.55306006e-05,  6.50514266e-05, -2.79506712e-05,\n",
      "        3.25126166e-05,  4.64380901e-05, -2.92373861e-05,  3.06372203e-05,\n",
      "       -1.71286047e-05,  7.53379572e-05,  3.36167686e-05,  2.73220030e-06],\n",
      "      dtype=float32)>, <tf.Tensor: shape=(128, 10000), dtype=float32, numpy=\n",
      "array([[ 9.9829584e-04,  2.2351909e-03,  1.6731444e-03, ...,\n",
      "        -3.8797093e-06, -3.8794742e-06, -3.8779658e-06],\n",
      "       [-3.6667974e-03, -4.2430600e-03, -5.1008333e-03, ...,\n",
      "         7.8903322e-06,  7.8915045e-06,  7.8918765e-06],\n",
      "       [-1.3071266e-03, -3.9162105e-03, -1.9854533e-03, ...,\n",
      "         3.3067261e-06,  3.3060655e-06,  3.3039883e-06],\n",
      "       ...,\n",
      "       [ 1.3181225e-03,  1.3115960e-03,  2.7803793e-03, ...,\n",
      "        -3.5876942e-06, -3.5885680e-06, -3.5888186e-06],\n",
      "       [-1.1860507e-03, -1.3736314e-03, -1.5273493e-03, ...,\n",
      "         1.7834550e-06,  1.7824104e-06,  1.7840232e-06],\n",
      "       [-1.1304287e-03, -8.5477892e-04, -5.0893007e-04, ...,\n",
      "        -9.8283039e-08, -1.0052159e-07, -9.9596321e-08]], dtype=float32)>, <tf.Tensor: shape=(10000,), dtype=float32, numpy=\n",
      "array([-0.79799783, -1.0313313 , -1.0313315 , ...,  0.00199967,\n",
      "        0.00200006,  0.00200021], dtype=float32)>]\n"
     ]
    }
   ],
   "source": [
    "print(grad_t_list)"
   ]
  },
  {
   "cell_type": "markdown",
   "metadata": {
    "button": false,
    "new_sheet": false,
    "run_control": {
     "read_only": false
    }
   },
   "source": [
    "now, we have a list of tensors, t-list. We can use it to find clipped tensors. <b>clip_by_global_norm</b> clips values of multiple tensors by the ratio of the sum of their norms.\n",
    "\n",
    "<b>clip_by_global_norm</b> get <i>t-list</i> as input and returns 2 things:\n",
    "\n",
    "<ul>\n",
    "    <li>a list of clipped tensors, so called <i>list_clipped</i></li> \n",
    "    <li>the global norm (global_norm) of all tensors in t_list</li> \n",
    "</ul>\n"
   ]
  },
  {
   "cell_type": "code",
   "execution_count": 48,
   "metadata": {},
   "outputs": [
    {
     "data": {
      "text/plain": [
       "[<tensorflow.python.framework.indexed_slices.IndexedSlices at 0x7fbb173c7b90>,\n",
       " <tf.Tensor: shape=(200, 1024), dtype=float32, numpy=\n",
       " array([[ 5.1042764e-07, -2.5506597e-07,  1.5021999e-07, ...,\n",
       "         -5.1926202e-07,  3.6153304e-07, -2.0076867e-07],\n",
       "        [-5.4011264e-07,  2.7736746e-07,  8.0269558e-08, ...,\n",
       "          2.1845844e-07, -1.8359728e-07, -1.2691477e-07],\n",
       "        [ 5.8881722e-07,  1.1886802e-06,  8.9667651e-08, ...,\n",
       "          3.3991125e-07, -2.2291545e-08, -7.5584481e-08],\n",
       "        ...,\n",
       "        [ 3.1506542e-07,  1.0702831e-06, -5.9620504e-08, ...,\n",
       "          1.1307877e-07,  1.6046489e-07, -9.4691242e-09],\n",
       "        [ 5.1984017e-10, -1.5818567e-06, -2.6202292e-07, ...,\n",
       "         -1.5622213e-07, -2.0188244e-07,  4.7702974e-07],\n",
       "        [ 4.6704415e-08, -1.3881006e-06, -3.4994230e-07, ...,\n",
       "         -7.5280823e-08,  2.3007105e-07, -2.7853287e-07]], dtype=float32)>,\n",
       " <tf.Tensor: shape=(256, 1024), dtype=float32, numpy=\n",
       " array([[-1.0502906e-07,  2.0009086e-08,  4.5067246e-08, ...,\n",
       "          6.9933677e-09,  5.2461594e-08, -1.0433399e-07],\n",
       "        [ 5.0448865e-08,  1.8527587e-07,  9.1477624e-08, ...,\n",
       "          2.4659116e-07, -2.6739006e-08, -9.6917823e-08],\n",
       "        [ 8.3749811e-08, -1.8927921e-07, -6.7420572e-08, ...,\n",
       "         -4.5954430e-08,  2.8404182e-08, -2.2887325e-07],\n",
       "        ...,\n",
       "        [-5.9210176e-08, -2.4123187e-07,  4.3219348e-08, ...,\n",
       "          4.1700883e-07, -1.0765409e-07, -2.8778963e-08],\n",
       "        [ 9.2722075e-08,  2.4098887e-07,  1.0214858e-08, ...,\n",
       "         -6.8513792e-08, -1.6626817e-07, -5.6228444e-09],\n",
       "        [-3.2681797e-08,  1.0542351e-07, -1.0741625e-07, ...,\n",
       "          8.4232482e-08, -6.1319263e-08, -2.1134508e-07]], dtype=float32)>,\n",
       " <tf.Tensor: shape=(1024,), dtype=float32, numpy=\n",
       " array([ 1.8553737e-05, -8.2382730e-06,  2.5897557e-06, ...,\n",
       "        -1.4052570e-05,  3.5962908e-06,  3.2985423e-05], dtype=float32)>,\n",
       " <tf.Tensor: shape=(256, 512), dtype=float32, numpy=\n",
       " array([[ 5.0819082e-08,  4.5986872e-07,  2.0373878e-07, ...,\n",
       "         -1.6398064e-07,  1.7520563e-07, -2.4123096e-08],\n",
       "        [-9.6253714e-08, -5.0883152e-08, -1.8290788e-07, ...,\n",
       "         -1.1714053e-07,  2.2424767e-07,  6.7795713e-07],\n",
       "        [ 1.7844209e-07,  1.1983150e-07,  1.0281898e-07, ...,\n",
       "          2.9027177e-07,  1.5728332e-07, -2.8072509e-07],\n",
       "        ...,\n",
       "        [ 1.8324229e-07,  4.2025199e-08, -1.2910947e-07, ...,\n",
       "          3.0176643e-08, -2.7718620e-08, -3.9184269e-07],\n",
       "        [ 6.3725025e-09, -2.2726401e-07,  5.4644733e-08, ...,\n",
       "         -1.3204381e-07, -1.9073417e-07, -1.8752999e-09],\n",
       "        [-4.6491238e-09,  2.7194739e-07,  8.0191782e-08, ...,\n",
       "         -3.7455618e-07,  1.9644531e-08, -1.7799394e-07]], dtype=float32)>,\n",
       " <tf.Tensor: shape=(128, 512), dtype=float32, numpy=\n",
       " array([[-1.06285889e-07,  1.05423794e-07,  9.55779527e-08, ...,\n",
       "         -1.47678747e-07, -1.22634916e-07,  3.16283888e-09],\n",
       "        [ 1.87149325e-07, -3.93606712e-07, -1.82911066e-07, ...,\n",
       "          3.15448631e-07,  2.01464587e-08,  3.44410296e-08],\n",
       "        [-5.57617028e-08, -4.24915818e-08, -3.85506894e-07, ...,\n",
       "          1.16852227e-07, -9.43599758e-08,  7.77328779e-08],\n",
       "        ...,\n",
       "        [-6.85129748e-08,  1.56606021e-07,  2.41610714e-08, ...,\n",
       "         -6.01937813e-07, -2.28117472e-07,  1.67279438e-07],\n",
       "        [ 1.32941025e-07, -1.35084548e-07, -4.26005684e-08, ...,\n",
       "          1.85354523e-07,  2.76314495e-07,  1.32796956e-07],\n",
       "        [ 2.17344436e-08, -9.82237722e-08, -1.37103584e-07, ...,\n",
       "         -1.05207212e-08,  2.43755274e-08,  5.19268497e-07]], dtype=float32)>,\n",
       " <tf.Tensor: shape=(512,), dtype=float32, numpy=\n",
       " array([ 3.43822430e-05, -8.11048230e-05, -1.37242969e-05,  1.69857776e-06,\n",
       "         3.84646664e-05,  8.02860995e-06,  2.78647931e-05, -5.96741666e-06,\n",
       "        -2.16779063e-06,  5.52463025e-05, -2.98505856e-05,  4.58704308e-05,\n",
       "         1.14846525e-05,  6.06132526e-05,  8.12664657e-05,  2.36090491e-05,\n",
       "         4.11973233e-05,  4.04669263e-05,  5.73718862e-05,  3.30965886e-05,\n",
       "         4.61980308e-05, -1.55787147e-05, -4.16210969e-06, -1.89544953e-05,\n",
       "        -9.76613774e-06, -1.76655358e-05,  1.41453056e-05, -5.85193175e-06,\n",
       "        -3.91230933e-05,  1.33376989e-05, -1.62703218e-05,  2.72093766e-05,\n",
       "        -2.34363579e-05, -6.22731677e-05, -6.48968216e-06, -4.09217901e-05,\n",
       "        -3.28739270e-06,  3.28630485e-05,  6.12434178e-06,  2.98291980e-06,\n",
       "         4.92924937e-06,  4.35758193e-06, -1.33386948e-05,  1.55328016e-05,\n",
       "         9.10275503e-07, -5.33625534e-05, -2.20542170e-05,  7.23072080e-05,\n",
       "        -4.40906297e-06, -4.60648771e-05, -2.13513522e-06,  1.42032068e-05,\n",
       "         2.95881327e-05,  1.85976733e-05,  2.19278409e-05,  2.28552599e-05,\n",
       "         2.74061495e-06, -2.94059282e-06, -2.75367493e-05,  2.37491295e-05,\n",
       "        -1.55215112e-05, -3.57704594e-05, -2.41131584e-05,  1.56430033e-05,\n",
       "         1.36926101e-05, -1.07819542e-05, -4.76732057e-05, -6.71418675e-05,\n",
       "        -6.91751775e-05,  1.77435340e-05, -2.17137003e-05,  2.74648428e-05,\n",
       "         1.91719337e-05, -3.59585538e-05,  2.57663723e-05, -3.88638091e-06,\n",
       "         8.23662413e-05,  1.39243339e-05, -6.16688194e-05,  1.37639136e-05,\n",
       "         7.95972392e-06,  9.64235223e-05,  5.87747309e-06, -4.18377822e-05,\n",
       "        -3.02576445e-05, -5.54942972e-06, -3.19378451e-05,  8.95215817e-06,\n",
       "        -1.34353004e-05,  9.06356727e-05, -8.87887109e-06,  4.64780132e-05,\n",
       "        -6.22682592e-07, -2.82840174e-05, -7.59593877e-06, -1.44018341e-05,\n",
       "         4.99316266e-05,  1.18330754e-05, -3.89414845e-06,  7.79555921e-06,\n",
       "         1.71471729e-05,  5.81304994e-06, -2.32359616e-05,  8.52280864e-05,\n",
       "        -3.97032854e-05, -1.84072633e-07, -8.66785558e-06,  2.53654653e-05,\n",
       "        -4.24710306e-05,  2.07641388e-05, -1.86553953e-05, -3.64255247e-05,\n",
       "        -8.77145067e-06,  2.98646246e-05, -1.55974831e-05, -5.16404471e-05,\n",
       "         2.81410394e-06, -1.18805256e-05,  5.72916251e-05, -3.58054604e-05,\n",
       "         3.71811911e-05,  3.49082111e-05, -2.68690637e-05,  3.53710784e-05,\n",
       "        -1.22932797e-05,  6.65699699e-05,  2.32803941e-05,  5.38881250e-06,\n",
       "         3.73296134e-05, -1.12175017e-04, -6.91713649e-05, -2.55002487e-06,\n",
       "         6.94373375e-05,  1.62718025e-05,  1.56205588e-05,  2.55902842e-06,\n",
       "         8.07921424e-06,  8.23783994e-05, -7.98669134e-07,  8.41998626e-05,\n",
       "         1.22350393e-05,  7.33592897e-05,  1.31861729e-04,  4.57495844e-05,\n",
       "         2.92222066e-05,  2.57443608e-05,  5.66282106e-05,  4.52373861e-05,\n",
       "         5.16237560e-05,  8.22076981e-06, -9.22890740e-06, -2.01741495e-05,\n",
       "        -3.28181195e-05, -1.92701227e-05,  1.26022060e-05, -2.29001780e-05,\n",
       "        -5.44841387e-05,  6.25637949e-06, -3.70190610e-05,  3.20044419e-05,\n",
       "        -4.18925883e-05, -7.59975374e-05, -2.45327028e-05, -5.84946865e-05,\n",
       "         2.71382578e-06,  2.37690692e-05,  9.95602932e-06,  9.00334635e-06,\n",
       "         2.97914230e-05, -5.93584446e-07, -1.83915963e-05,  3.36232260e-05,\n",
       "         1.50994465e-05, -3.75918171e-05, -2.36136621e-05,  1.12993279e-04,\n",
       "         1.85362151e-05, -8.52139856e-05, -3.12918201e-06,  1.62864617e-05,\n",
       "         2.04243515e-05,  6.80502344e-05,  4.02482692e-05,  2.68479744e-05,\n",
       "        -2.11691076e-06, -4.58103113e-06, -5.62054338e-05,  1.58232251e-06,\n",
       "        -1.78473165e-05, -2.06513996e-05, -3.41514533e-05,  3.66686181e-05,\n",
       "         2.04581338e-05, -3.88936533e-05, -6.68341163e-05, -8.64719259e-05,\n",
       "        -1.08506356e-04,  4.53129178e-05, -4.33693858e-05,  2.94112979e-05,\n",
       "         2.92796467e-05, -4.24751415e-05,  2.46601321e-05, -1.60084346e-05,\n",
       "         1.17274256e-04,  1.11118179e-05, -8.92182652e-05,  3.80598067e-06,\n",
       "         7.29492967e-07,  1.51077416e-04,  3.49655238e-06, -7.96777531e-05,\n",
       "        -2.43803624e-05, -3.95799798e-05, -4.77266003e-05, -2.38222383e-05,\n",
       "        -1.77741258e-05,  1.27386927e-04, -4.42934324e-05,  7.72452477e-05,\n",
       "         1.62121414e-05, -1.91099643e-05,  1.45793147e-05,  4.16115618e-05,\n",
       "         5.24625284e-05,  4.56978014e-05, -2.86038721e-05,  9.93540561e-06,\n",
       "         4.50273001e-05,  9.48115030e-06, -4.29362262e-05,  1.16828422e-04,\n",
       "        -8.08250770e-05, -3.20733307e-05,  1.72498076e-05,  2.81591601e-05,\n",
       "        -6.48133064e-05,  3.04582063e-05, -7.94741482e-06, -4.51374071e-05,\n",
       "        -2.16050466e-08, -1.84395572e-06,  8.64045705e-06, -8.31742727e-05,\n",
       "         2.35513307e-05, -2.36755277e-05,  5.58255997e-05, -3.18697967e-05,\n",
       "         3.93575319e-05,  3.48262547e-05, -3.89635024e-05,  4.72267748e-05,\n",
       "        -2.94079109e-05,  5.95449237e-05,  4.02328951e-05,  8.29108649e-06,\n",
       "        -4.57199989e-03, -4.41997014e-02, -2.25143284e-02, -4.73239720e-02,\n",
       "        -1.46701448e-02, -8.96439329e-03, -1.28713092e-02,  3.99663392e-03,\n",
       "         3.86959463e-02,  1.14455335e-02, -2.97365934e-02,  3.14369798e-02,\n",
       "         2.00592112e-02, -6.64259121e-03,  5.44829071e-02,  8.67322460e-03,\n",
       "        -4.91087437e-02, -1.41657051e-02, -2.71329135e-02,  1.23999314e-02,\n",
       "        -1.36826234e-02, -5.84333166e-02,  2.19361950e-03, -3.20983902e-02,\n",
       "         5.84010547e-03,  1.86970923e-02, -1.09915100e-02, -2.25407667e-02,\n",
       "         1.24687636e-02,  1.93265416e-02, -4.58855787e-03, -3.71592417e-02,\n",
       "         1.66553799e-02, -5.18541113e-02, -4.00947267e-03, -1.17044821e-02,\n",
       "         1.41348885e-02, -8.22295714e-03,  3.40518132e-02,  1.43725025e-02,\n",
       "         2.02052947e-02, -5.12121096e-02, -1.29463635e-02,  5.36465272e-02,\n",
       "         4.64207269e-02,  3.34851444e-02, -4.69371956e-03,  3.93971577e-02,\n",
       "         6.16069026e-02,  3.16424221e-02, -2.96629965e-04,  8.20757356e-03,\n",
       "        -1.17744878e-02,  6.49443492e-02,  2.30457149e-02,  2.33219657e-02,\n",
       "        -1.14375399e-02, -1.00355688e-02,  1.34040779e-02,  2.89041977e-02,\n",
       "        -8.05501081e-03,  1.14345504e-02,  2.82347314e-02,  9.16575454e-03,\n",
       "         2.91432049e-02, -3.28203887e-02,  6.35947734e-02, -1.55937690e-02,\n",
       "        -3.47320288e-02,  7.07128085e-03,  4.02921140e-02,  2.15646327e-02,\n",
       "        -1.68445315e-02, -2.43190285e-02, -2.07715854e-03,  8.61365162e-03,\n",
       "        -4.68341000e-02,  1.06095467e-02, -3.60592976e-02, -1.45837665e-04,\n",
       "        -1.35987727e-02, -6.91760033e-02,  4.57760990e-02,  1.75223034e-02,\n",
       "         3.22855040e-02, -2.54789777e-02,  2.67239101e-03, -3.25480849e-02,\n",
       "         4.01709862e-02,  7.75866285e-02,  3.92965116e-02, -3.73270595e-03,\n",
       "         1.27482070e-02,  1.59653388e-02, -1.56375598e-02, -1.04491487e-02,\n",
       "         3.24740708e-02,  5.96157387e-02, -1.72569975e-02, -2.47766543e-02,\n",
       "        -1.20808501e-02,  2.78587118e-02, -1.36427339e-02, -7.26269931e-02,\n",
       "        -6.83464259e-02, -2.23584324e-02,  3.05028334e-02, -3.46209109e-02,\n",
       "        -4.16929759e-02,  3.83017920e-02, -3.66780236e-02,  9.42369364e-03,\n",
       "        -9.17875022e-03,  7.26678781e-03,  2.55759209e-02,  3.51558998e-02,\n",
       "        -6.98112696e-03, -2.02633888e-02, -4.85987402e-02,  1.06894644e-02,\n",
       "        -3.00143734e-02,  9.15317796e-04, -2.28239633e-02,  3.54853719e-02,\n",
       "        -2.97108782e-03, -2.41159610e-02, -1.36754580e-03,  6.62823319e-02,\n",
       "         2.89972668e-05, -1.02939463e-04, -2.43804679e-05,  1.28746378e-05,\n",
       "         3.99125784e-05,  5.50368577e-06,  3.35187724e-05,  1.88263311e-06,\n",
       "        -6.22396874e-06,  4.65149387e-05, -3.04880086e-05,  5.66579984e-05,\n",
       "         6.52839208e-06,  6.01545762e-05,  9.34301788e-05,  1.93421129e-05,\n",
       "         5.25380638e-05,  3.26760637e-05,  5.11486360e-05,  2.18892674e-05,\n",
       "         4.64697005e-05, -7.90258855e-06, -4.62804383e-06, -1.17107920e-05,\n",
       "        -2.41295729e-05, -1.66148457e-05,  1.51621416e-05, -6.12259100e-07,\n",
       "        -3.38955615e-05,  8.44789793e-06, -2.18194818e-05,  3.92236616e-05,\n",
       "        -2.36871783e-05, -6.51257506e-05, -6.90273464e-06, -4.45861806e-05,\n",
       "        -7.97538451e-06,  3.45608605e-05,  9.03897580e-06,  1.88322247e-05,\n",
       "         1.43175812e-05,  6.57083228e-06, -1.41490764e-05,  1.69447048e-05,\n",
       "         6.84733550e-06, -6.23349115e-05, -2.73227433e-05,  7.69186154e-05,\n",
       "        -5.28007331e-06, -7.33788329e-05, -1.64990888e-06,  9.21546325e-06,\n",
       "         3.15828511e-05,  2.86054328e-05,  2.16149092e-05,  1.58595103e-05,\n",
       "         1.00071566e-06,  2.83744157e-07, -4.31255357e-05,  2.32255334e-05,\n",
       "        -1.16326446e-05, -3.57308818e-05, -3.21805455e-05,  1.82612312e-05,\n",
       "         1.62233591e-05, -1.28807997e-05, -6.25243338e-05, -7.12524925e-05,\n",
       "        -9.05734487e-05,  3.25992114e-05, -4.02021105e-05,  2.84006237e-05,\n",
       "         2.26974043e-05, -3.65264059e-05,  2.90351927e-05,  1.76483445e-06,\n",
       "         8.96000056e-05,  3.97743270e-06, -6.51085284e-05,  1.27661333e-05,\n",
       "         1.05545223e-05,  1.08790911e-04, -6.82410973e-06, -4.76590249e-05,\n",
       "        -3.41994237e-05, -1.69775012e-05, -3.72991417e-05,  3.52587722e-06,\n",
       "        -1.56755632e-05,  1.13113099e-04, -7.84963777e-06,  5.02239163e-05,\n",
       "        -5.38547283e-07, -2.77957333e-05, -9.25222594e-06, -7.00953933e-06,\n",
       "         4.85866112e-05,  2.07680860e-05, -7.93084109e-06,  1.27283056e-05,\n",
       "         3.11506592e-05,  8.57556188e-06, -2.59952194e-05,  8.88217037e-05,\n",
       "        -5.27615339e-05, -1.76983644e-06, -3.14532736e-06,  2.49036166e-05,\n",
       "        -4.25966900e-05,  2.18488003e-05, -2.45571900e-05, -3.70524031e-05,\n",
       "        -7.10878385e-06,  2.33249793e-05, -1.62426822e-05, -5.86030728e-05,\n",
       "        -3.79917992e-06, -1.55306006e-05,  6.50514266e-05, -2.79506712e-05,\n",
       "         3.25126166e-05,  4.64380901e-05, -2.92373861e-05,  3.06372203e-05,\n",
       "        -1.71286047e-05,  7.53379572e-05,  3.36167686e-05,  2.73220030e-06],\n",
       "       dtype=float32)>,\n",
       " <tf.Tensor: shape=(128, 10000), dtype=float32, numpy=\n",
       " array([[ 9.9829584e-04,  2.2351909e-03,  1.6731444e-03, ...,\n",
       "         -3.8797093e-06, -3.8794742e-06, -3.8779658e-06],\n",
       "        [-3.6667974e-03, -4.2430600e-03, -5.1008333e-03, ...,\n",
       "          7.8903322e-06,  7.8915045e-06,  7.8918765e-06],\n",
       "        [-1.3071266e-03, -3.9162105e-03, -1.9854533e-03, ...,\n",
       "          3.3067261e-06,  3.3060655e-06,  3.3039883e-06],\n",
       "        ...,\n",
       "        [ 1.3181225e-03,  1.3115960e-03,  2.7803793e-03, ...,\n",
       "         -3.5876942e-06, -3.5885680e-06, -3.5888186e-06],\n",
       "        [-1.1860507e-03, -1.3736314e-03, -1.5273493e-03, ...,\n",
       "          1.7834550e-06,  1.7824104e-06,  1.7840232e-06],\n",
       "        [-1.1304287e-03, -8.5477892e-04, -5.0893007e-04, ...,\n",
       "         -9.8283039e-08, -1.0052159e-07, -9.9596321e-08]], dtype=float32)>,\n",
       " <tf.Tensor: shape=(10000,), dtype=float32, numpy=\n",
       " array([-0.79799783, -1.0313313 , -1.0313315 , ...,  0.00199967,\n",
       "         0.00200006,  0.00200021], dtype=float32)>]"
      ]
     },
     "execution_count": 48,
     "metadata": {},
     "output_type": "execute_result"
    }
   ],
   "source": [
    "# Define the gradient clipping threshold\n",
    "grads, _ = tf.clip_by_global_norm(grad_t_list, max_grad_norm)\n",
    "grads"
   ]
  },
  {
   "cell_type": "markdown",
   "metadata": {},
   "source": [
    "<h4> 4.Apply the optimizer to the variables/gradients tuple. </h4>\n"
   ]
  },
  {
   "cell_type": "code",
   "execution_count": 49,
   "metadata": {},
   "outputs": [],
   "source": [
    "# Create the training TensorFlow Operation through our optimizer\n",
    "train_op = optimizer.apply_gradients(zip(grads, tvars))"
   ]
  },
  {
   "cell_type": "markdown",
   "metadata": {},
   "source": [
    "<a id=\"ltsm\"></a>\n",
    "\n",
    "<h2>LSTM</h2>\n"
   ]
  },
  {
   "cell_type": "markdown",
   "metadata": {
    "button": false,
    "deletable": true,
    "new_sheet": false,
    "run_control": {
     "read_only": false
    }
   },
   "source": [
    "We learned how the model is build step by step. Noe, let's then create a Class that represents our model. This class needs a few things:\n",
    "\n",
    "<ul>\n",
    "    <li>We have to create the model in accordance with our defined hyperparameters</li>\n",
    "    <li>We have to create the LSTM cell structure and connect them with our RNN structure</li>\n",
    "    <li>We have to create the word embeddings and point them to the input data</li>\n",
    "    <li>We have to create the input structure for our RNN</li>\n",
    "    <li>We need to create a logistic structure to return the probability of our words</li>\n",
    "    <li>We need to create the loss and cost functions for our optimizer to work, and then create the optimizer</li>\n",
    "    <li>And finally, we need to create a training operation that can be run to actually train our model</li>\n",
    "</ul>\n"
   ]
  },
  {
   "cell_type": "code",
   "execution_count": 50,
   "metadata": {
    "button": false,
    "deletable": true,
    "new_sheet": false,
    "run_control": {
     "read_only": false
    },
    "tags": []
   },
   "outputs": [],
   "source": [
    "class PTBModel(object):\n",
    "\n",
    "\n",
    "    def __init__(self):\n",
    "        ######################################\n",
    "        # Setting parameters for ease of use #\n",
    "        ######################################\n",
    "        self.batch_size = batch_size\n",
    "        self.num_steps = num_steps\n",
    "        self.hidden_size_l1 = hidden_size_l1\n",
    "        self.hidden_size_l2 = hidden_size_l2\n",
    "        self.vocab_size = vocab_size\n",
    "        self.embeding_vector_size = embeding_vector_size\n",
    "        # Create a variable for the learning rate\n",
    "        self._lr = 1.0\n",
    "        \n",
    "        ###############################################################################\n",
    "        # Initializing the model using keras Sequential API  #\n",
    "        ###############################################################################\n",
    "        \n",
    "        self._model = tf.keras.models.Sequential()\n",
    "        \n",
    "        ####################################################################\n",
    "        # Creating the word embeddings layer and adding it to the sequence #\n",
    "        ####################################################################\n",
    "        with tf.device(\"/cpu:0\"):\n",
    "            # Create the embeddings for our input data. Size is hidden size.\n",
    "            self._embedding_layer = tf.keras.layers.Embedding(self.vocab_size, self.embeding_vector_size,batch_input_shape=(self.batch_size, self.num_steps),trainable=True,name=\"embedding_vocab\")  #[10000x200]\n",
    "            self._model.add(self._embedding_layer)\n",
    "            \n",
    "\n",
    "        ##########################################################################\n",
    "        # Creating the LSTM cell structure and connect it with the RNN structure #\n",
    "        ##########################################################################\n",
    "        # Create the LSTM Cells. \n",
    "        # This creates only the structure for the LSTM and has to be associated with a RNN unit still.\n",
    "        # The argument  of LSTMCell is size of hidden layer, that is, the number of hidden units of the LSTM (inside A). \n",
    "        # LSTM cell processes one word at a time and computes probabilities of the possible continuations of the sentence.\n",
    "        lstm_cell_l1 = tf.keras.layers.LSTMCell(hidden_size_l1)\n",
    "        lstm_cell_l2 = tf.keras.layers.LSTMCell(hidden_size_l2)\n",
    "        \n",
    "\n",
    "        \n",
    "        # By taking in the LSTM cells as parameters, the StackedRNNCells function junctions the LSTM units to the RNN units.\n",
    "        # RNN cell composed sequentially of stacked simple cells.\n",
    "        stacked_lstm = tf.keras.layers.StackedRNNCells([lstm_cell_l1, lstm_cell_l2])\n",
    "\n",
    "\n",
    "        \n",
    "\n",
    "        ############################################\n",
    "        # Creating the input structure for our RNN #\n",
    "        ############################################\n",
    "        # Input structure is 20x[30x200]\n",
    "        # Considering each word is represended by a 200 dimentional vector, and we have 30 batchs, we create 30 word-vectors of size [30xx2000]\n",
    "        # The input structure is fed from the embeddings, which are filled in by the input data\n",
    "        # Feeding a batch of b sentences to a RNN:\n",
    "        # In step 1,  first word of each of the b sentences (in a batch) is input in parallel.  \n",
    "        # In step 2,  second word of each of the b sentences is input in parallel. \n",
    "        # The parallelism is only for efficiency.  \n",
    "        # Each sentence in a batch is handled in parallel, but the network sees one word of a sentence at a time and does the computations accordingly. \n",
    "        # All the computations involving the words of all sentences in a batch at a given time step are done in parallel. \n",
    "\n",
    "        ########################################################################################################\n",
    "        # Instantiating our RNN model and setting stateful to True to feed forward the state to the next layer #\n",
    "        ########################################################################################################\n",
    "        \n",
    "        self._RNNlayer  =  tf.keras.layers.RNN(stacked_lstm,[batch_size, num_steps],return_state=False,stateful=True,trainable=True)\n",
    "        \n",
    "        # Define the initial state, i.e., the model state for the very first data point\n",
    "        # It initialize the state of the LSTM memory. The memory state of the network is initialized with a vector of zeros and gets updated after reading each word.\n",
    "        self._initial_state = tf.Variable(tf.zeros([batch_size,embeding_vector_size]),trainable=False)\n",
    "        self._RNNlayer.inital_state = self._initial_state\n",
    "    \n",
    "        ############################################\n",
    "        # Adding RNN layer to keras sequential API #\n",
    "        ############################################        \n",
    "        self._model.add(self._RNNlayer)\n",
    "        \n",
    "        #self._model.add(tf.keras.layers.LSTM(hidden_size_l1,return_sequences=True,stateful=True))\n",
    "        #self._model.add(tf.keras.layers.LSTM(hidden_size_l2,return_sequences=True))\n",
    "        \n",
    "        \n",
    "        ####################################################################################################\n",
    "        # Instantiating a Dense layer that connects the output to the vocab_size  and adding layer to model#\n",
    "        ####################################################################################################\n",
    "        self._dense = tf.keras.layers.Dense(self.vocab_size)\n",
    "        self._model.add(self._dense)\n",
    " \n",
    "        \n",
    "        ####################################################################################################\n",
    "        # Adding softmax activation layer and deriving probability to each class and adding layer to model #\n",
    "        ####################################################################################################\n",
    "        self._activation = tf.keras.layers.Activation('softmax')\n",
    "        self._model.add(self._activation)\n",
    "\n",
    "        ##########################################################\n",
    "        # Instantiating the stochastic gradient decent optimizer #\n",
    "        ########################################################## \n",
    "        self._optimizer = tf.keras.optimizers.SGD(lr=self._lr, clipnorm=max_grad_norm)\n",
    "        \n",
    "        \n",
    "        ##############################################################################\n",
    "        # Compiling and summarizing the model stacked using the keras sequential API #\n",
    "        ##############################################################################\n",
    "        self._model.compile(loss=self.crossentropy, optimizer=self._optimizer)\n",
    "        self._model.summary()\n",
    "\n",
    "\n",
    "    def crossentropy(self,y_true, y_pred):\n",
    "        return tf.keras.losses.sparse_categorical_crossentropy(y_true, y_pred)\n",
    "\n",
    "    def train_batch(self,_input_data,_targets):\n",
    "        #################################################\n",
    "        # Creating the Training Operation for our Model #\n",
    "        #################################################\n",
    "        # Create a variable for the learning rate\n",
    "        self._lr = tf.Variable(0.0, trainable=False)\n",
    "        # Get all TensorFlow variables marked as \"trainable\" (i.e. all of them except _lr, which we just created)\n",
    "        tvars = self._model.trainable_variables\n",
    "        # Define the gradient clipping threshold\n",
    "        with tf.GradientTape() as tape:\n",
    "            # Forward pass.\n",
    "            output_words_prob = self._model(_input_data)\n",
    "            # Loss value for this batch.\n",
    "            loss  = self.crossentropy(_targets, output_words_prob)\n",
    "            # average across batch and reduce sum\n",
    "            cost = tf.reduce_sum(loss/ self.batch_size)\n",
    "        # Get gradients of loss wrt the trainable variables.\n",
    "        grad_t_list = tape.gradient(cost, tvars)\n",
    "        # Define the gradient clipping threshold\n",
    "        grads, _ = tf.clip_by_global_norm(grad_t_list, max_grad_norm)\n",
    "        # Create the training TensorFlow Operation through our optimizer\n",
    "        train_op = self._optimizer.apply_gradients(zip(grads, tvars))\n",
    "        return cost\n",
    "        \n",
    "    def test_batch(self,_input_data,_targets):\n",
    "        #################################################\n",
    "        # Creating the Testing Operation for our Model #\n",
    "        #################################################\n",
    "        output_words_prob = self._model(_input_data)\n",
    "        loss  = self.crossentropy(_targets, output_words_prob)\n",
    "        # average across batch and reduce sum\n",
    "        cost = tf.reduce_sum(loss/ self.batch_size)\n",
    "\n",
    "        return cost\n",
    "    @classmethod\n",
    "    def instance(cls) : \n",
    "        return PTBModel()"
   ]
  },
  {
   "cell_type": "markdown",
   "metadata": {
    "button": false,
    "deletable": true,
    "new_sheet": false,
    "run_control": {
     "read_only": false
    }
   },
   "source": [
    "With that, the actual structure of our Recurrent Neural Network with Long Short-Term Memory is finished. What remains for us to do is to actually create the methods to run through time -- that is, the <code>run_epoch</code> method to be run at each epoch and a <code>main</code> script which ties all of this together.\n",
    "\n",
    "What our <code>run_epoch</code> method should do is take our input data and feed it to the relevant operations. This will return at the very least the current result for the cost function.\n"
   ]
  },
  {
   "cell_type": "code",
   "execution_count": 51,
   "metadata": {
    "button": false,
    "deletable": true,
    "new_sheet": false,
    "run_control": {
     "read_only": false
    }
   },
   "outputs": [],
   "source": [
    "\n",
    "########################################################################################################################\n",
    "# run_one_epoch takes as parameters  the model instance, the data to be fed, training or testing mode and verbose info #\n",
    "########################################################################################################################\n",
    "def run_one_epoch(m, data,is_training=True,verbose=False):\n",
    "\n",
    "    #Define the epoch size based on the length of the data, batch size and the number of steps\n",
    "    epoch_size = ((len(data) // m.batch_size) - 1) // m.num_steps\n",
    "    start_time = time.time()\n",
    "    costs = 0.\n",
    "    iters = 0\n",
    "    \n",
    "    m._model.reset_states()\n",
    "    \n",
    "    #For each step and data point\n",
    "    for step, (x, y) in enumerate(reader.ptb_iterator(data, m.batch_size, m.num_steps)):\n",
    "        \n",
    "        #Evaluate and return cost, state by running cost, final_state and the function passed as parameter\n",
    "        #y = tf.keras.utils.to_categorical(y, num_classes=vocab_size)\n",
    "        if is_training : \n",
    "            loss=  m.train_batch(x, y)\n",
    "        else :\n",
    "            loss = m.test_batch(x, y)\n",
    "                                   \n",
    "\n",
    "        #Add returned cost to costs (which keeps track of the total costs for this epoch)\n",
    "        costs += loss\n",
    "        \n",
    "        #Add number of steps to iteration counter\n",
    "        iters += m.num_steps\n",
    "\n",
    "        if verbose and step % (epoch_size // 10) == 10:\n",
    "            print(\"Itr %d of %d, perplexity: %.3f speed: %.0f wps\" % (step , epoch_size, np.exp(costs / iters), iters * m.batch_size / (time.time() - start_time)))\n",
    "        \n",
    "\n",
    "\n",
    "    # Returns the Perplexity rating for us to keep track of how the model is evolving\n",
    "    return np.exp(costs / iters)\n"
   ]
  },
  {
   "cell_type": "markdown",
   "metadata": {
    "button": false,
    "deletable": true,
    "new_sheet": false,
    "run_control": {
     "read_only": false
    }
   },
   "source": [
    "Now, we create the <code>main</code> method to tie everything together. The code here reads the data from the directory, using the <code>reader</code> helper module, and then trains and evaluates the model on both a testing and a validating subset of data.\n"
   ]
  },
  {
   "cell_type": "code",
   "execution_count": 52,
   "metadata": {
    "button": false,
    "deletable": true,
    "new_sheet": false,
    "run_control": {
     "read_only": false
    },
    "tags": []
   },
   "outputs": [],
   "source": [
    "# Reads the data and separates it into training data, validation data and testing data\n",
    "raw_data = reader.ptb_raw_data(data_dir)\n",
    "train_data, valid_data, test_data, _, _ = raw_data"
   ]
  },
  {
   "cell_type": "code",
   "execution_count": null,
   "metadata": {
    "tags": []
   },
   "outputs": [
    {
     "name": "stdout",
     "output_type": "stream",
     "text": [
      "Model: \"sequential_1\"\n",
      "_________________________________________________________________\n",
      "Layer (type)                 Output Shape              Param #   \n",
      "=================================================================\n",
      "embedding_vocab (Embedding)  (30, 20, 200)             2000000   \n",
      "_________________________________________________________________\n",
      "rnn_1 (RNN)                  (30, 20, 128)             671088    \n",
      "_________________________________________________________________\n",
      "dense_1 (Dense)              (30, 20, 10000)           1290000   \n",
      "_________________________________________________________________\n",
      "activation_1 (Activation)    (30, 20, 10000)           0         \n",
      "=================================================================\n",
      "Total params: 3,961,088\n",
      "Trainable params: 3,955,088\n",
      "Non-trainable params: 6,000\n",
      "_________________________________________________________________\n",
      "Epoch 1 : Learning rate: 1.000\n",
      "Itr 10 of 1549, perplexity: 4557.663 speed: 495 wps\n"
     ]
    }
   ],
   "source": [
    "# Instantiates the PTBModel class\n",
    "m=PTBModel.instance()   \n",
    "K = tf.keras.backend \n",
    "for i in range(max_epoch):\n",
    "    # Define the decay for this epoch\n",
    "    lr_decay = decay ** max(i - max_epoch_decay_lr, 0.0)\n",
    "    dcr = learning_rate * lr_decay\n",
    "    m._lr = dcr\n",
    "    K.set_value(m._model.optimizer.learning_rate,m._lr)\n",
    "    print(\"Epoch %d : Learning rate: %.3f\" % (i + 1, m._model.optimizer.learning_rate))\n",
    "    # Run the loop for this epoch in the training mode\n",
    "    train_perplexity = run_one_epoch(m, train_data,is_training=True,verbose=True)\n",
    "    print(\"Epoch %d : Train Perplexity: %.3f\" % (i + 1, train_perplexity))\n",
    "        \n",
    "    # Run the loop for this epoch in the validation mode\n",
    "    valid_perplexity = run_one_epoch(m, valid_data,is_training=False,verbose=False)\n",
    "    print(\"Epoch %d : Valid Perplexity: %.3f\" % (i + 1, valid_perplexity))\n",
    "    \n",
    "# Run the loop in the testing mode to see how effective was our training\n",
    "test_perplexity = run_one_epoch(m, test_data,is_training=False,verbose=False)\n",
    "print(\"Test Perplexity: %.3f\" % test_perplexity)\n",
    "\n"
   ]
  },
  {
   "cell_type": "markdown",
   "metadata": {
    "button": false,
    "deletable": true,
    "new_sheet": false,
    "run_control": {
     "read_only": false
    }
   },
   "source": [
    "As you can see, the model's perplexity rating drops very quickly after a few iterations. As was elaborated before, <b>lower Perplexity means that the model is more certain about its prediction</b>. As such, we can be sure that this model is performing well!\n"
   ]
  },
  {
   "cell_type": "markdown",
   "metadata": {
    "button": false,
    "deletable": true,
    "new_sheet": false,
    "run_control": {
     "read_only": false
    }
   },
   "source": [
    "***\n"
   ]
  },
  {
   "cell_type": "markdown",
   "metadata": {
    "button": false,
    "deletable": true,
    "new_sheet": false,
    "run_control": {
     "read_only": false
    }
   },
   "source": [
    "This is the end of the <b>Applying Recurrent Neural Networks to Text Processing</b> notebook. Hopefully you now have a better understanding of Recurrent Neural Networks and how to implement one utilizing TensorFlow. Thank you for reading this notebook, and good luck on your studies.\n"
   ]
  },
  {
   "cell_type": "markdown",
   "metadata": {
    "button": false,
    "deletable": true,
    "new_sheet": false,
    "run_control": {
     "read_only": false
    }
   },
   "source": [
    "## Want to learn more?\n",
    "\n",
    "Also, you can use **Watson Studio** to run these notebooks faster with bigger datasets.**Watson Studio** is IBM’s leading cloud solution for data scientists, built by data scientists. With Jupyter notebooks, RStudio, Apache Spark and popular libraries pre-packaged in the cloud, **Watson Studio** enables data scientists to collaborate on their projects without having to install anything. Join the fast-growing community of **Watson Studio** users today with a free account at [Watson Studio](https://cocl.us/ML0120EN_DSX).This is the end of this lesson. Thank you for reading this notebook, and good luck on your studies.\n"
   ]
  },
  {
   "cell_type": "markdown",
   "metadata": {
    "button": false,
    "deletable": true,
    "new_sheet": false,
    "run_control": {
     "read_only": false
    }
   },
   "source": [
    "### Thanks for completing this lesson!\n",
    "\n",
    "Notebook created by <a href=\"https://br.linkedin.com/in/walter-gomes-de-amorim-junior-624726121?utm_medium=Exinfluencer&utm_source=Exinfluencer&utm_content=000026UJ&utm_term=10006555&utm_id=NA-SkillsNetwork-Channel-SkillsNetworkCoursesIBMDeveloperSkillsNetworkDL0120ENSkillsNetwork20629446-2021-01-01\">Walter Gomes de Amorim Junior</a>, <a href = \"https://linkedin.com/in/saeedaghabozorgi?utm_medium=Exinfluencer&utm_source=Exinfluencer&utm_content=000026UJ&utm_term=10006555&utm_id=NA-SkillsNetwork-Channel-SkillsNetworkCoursesIBMDeveloperSkillsNetworkDL0120ENSkillsNetwork20629446-2021-01-01\"> Saeed Aghabozorgi </a></h4>\n",
    "\n",
    "Updated to TF 2.X by  <a href=\"https://www.linkedin.com/in/samaya-madhavan?utm_medium=Exinfluencer&utm_source=Exinfluencer&utm_content=000026UJ&utm_term=10006555&utm_id=NA-SkillsNetwork-Channel-SkillsNetworkCoursesIBMDeveloperSkillsNetworkDL0120ENSkillsNetwork20629446-2021-01-01\"> Samaya Madhavan </a>\n"
   ]
  },
  {
   "cell_type": "markdown",
   "metadata": {
    "button": false,
    "deletable": true,
    "new_sheet": false,
    "run_control": {
     "read_only": false
    }
   },
   "source": [
    "<hr>\n",
    "\n",
    "Copyright © 2018 [Cognitive Class](https://cocl.us/DX0108EN_CC). This notebook and its source code are released under the terms of the [MIT License](https://bigdatauniversity.com/mit-license/?utm_medium=Exinfluencer&utm_source=Exinfluencer&utm_content=000026UJ&utm_term=10006555&utm_id=NA-SkillsNetwork-Channel-SkillsNetworkCoursesIBMDeveloperSkillsNetworkDL0120ENSkillsNetwork20629446-2021-01-01).\n"
   ]
  }
 ],
 "metadata": {
  "anaconda-cloud": {},
  "kernelspec": {
   "display_name": "Python",
   "language": "python",
   "name": "conda-env-python-py"
  },
  "language_info": {
   "codemirror_mode": {
    "name": "ipython",
    "version": 3
   },
   "file_extension": ".py",
   "mimetype": "text/x-python",
   "name": "python",
   "nbconvert_exporter": "python",
   "pygments_lexer": "ipython3",
   "version": "3.7.12"
  },
  "widgets": {
   "state": {},
   "version": "1.1.2"
  }
 },
 "nbformat": 4,
 "nbformat_minor": 4
}
